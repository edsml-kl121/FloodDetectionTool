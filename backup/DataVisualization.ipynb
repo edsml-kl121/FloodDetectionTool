{
 "cells": [
  {
   "cell_type": "markdown",
   "metadata": {
    "slideshow": {
     "slide_type": "skip"
    }
   },
   "source": [
    "# Data Visualization\n",
    "\n",
    "## Placholder Notebook\n",
    "\n",
    "This notebook allows you to quickly start examining your data, expect it to change a lot over the course of the week.\n",
    "\n",
    "### Postcode data"
   ]
  },
  {
   "cell_type": "code",
   "execution_count": null,
   "metadata": {
    "slideshow": {
     "slide_type": "slide"
    }
   },
   "outputs": [],
   "source": [
    "import pandas as pd"
   ]
  },
  {
   "cell_type": "code",
   "execution_count": null,
   "metadata": {
    "slideshow": {
     "slide_type": "slide"
    }
   },
   "outputs": [],
   "source": [
    "# The unlabelled postcode data\n",
    "df1 = pd.read_csv('./flood_tool/resources/postcodes_unlabelled.csv')\n",
    "# The labelled postcode data\n",
    "df2 = pd.read_csv('./flood_tool/resources/postcodes_sampled.csv')\n",
    "# The data on number of households\n",
    "df3 = pd.read_csv('./flood_tool/resources/households_per_sector.csv')\n",
    "# The data on measurement stations\n",
    "df4 = pd.read_csv('./flood_tool/resources/stations.csv')\n",
    "# The data for a wet day\n",
    "df5 = pd.read_csv('./flood_tool/resources/wet_day.csv')\n",
    "# The data for a more typical day\n",
    "df5 = pd.read_csv('./flood_tool/resources/typical_day.csv')"
   ]
  },
  {
   "cell_type": "markdown",
   "metadata": {
    "slideshow": {
     "slide_type": "slide"
    }
   },
   "source": [
    "### Mapping your data\n",
    "\n",
    "As one possible approach, we have provided a function to plot a circle on a map using the `folium` package. You can use `folium` and expand on this functionality, or you may prefer to use a different package. Please check with us that the mapping package you wish to use is permissible before you start."
   ]
  },
  {
   "cell_type": "markdown",
   "metadata": {},
   "source": [
    "# Importing the module"
   ]
  },
  {
   "cell_type": "code",
   "execution_count": null,
   "metadata": {},
   "outputs": [],
   "source": [
    "import sys\n",
    "sys.path.append('./flood_tool')\n",
    "from geo import *\n",
    "from tool import *\n",
    "from mapping import *"
   ]
  },
  {
   "cell_type": "markdown",
   "metadata": {},
   "source": [
    "# Flooding and housing data"
   ]
  },
  {
   "cell_type": "code",
   "execution_count": null,
   "metadata": {},
   "outputs": [],
   "source": [
    "flood_risk_data = df2.copy()\n",
    "\n",
    "flood_risk_data = flood_risk_data[[\"easting\", \"northing\", \"riskLabel\"]]\n",
    "\n",
    "flood_risk_data.head()\n",
    "\n",
    "flood_risk_data[[\"col1\",\"col2\"]] = flood_risk_data.apply(lambda x: get_gps_lat_long_from_easting_northing([x.easting],[x.northing]), axis=1, result_type='expand')  \n",
    "\n",
    "flood_risk_data[[\"latitude\",\"longitude\"]] = flood_risk_data.apply(lambda x: (x.col1[0],x.col2[0]), axis = 1, result_type='expand')\n",
    "\n",
    "flood_risk_data = flood_risk_data.drop(columns=['easting','northing','col1','col2'])\n",
    "flood_risk_data\n"
   ]
  },
  {
   "cell_type": "code",
   "execution_count": null,
   "metadata": {},
   "outputs": [],
   "source": [
    "house_data = df2.copy()\n",
    "\n",
    "house_data = house_data[[\"easting\", \"northing\", \"medianPrice\"]]\n",
    "\n",
    "house_data[[\"col1\",\"col2\"]] = house_data.apply(lambda x: get_gps_lat_long_from_easting_northing([x.easting],[x.northing]), axis=1, result_type='expand')  \n",
    "\n",
    "house_data[[\"latitude\",\"longitude\"]] = house_data.apply(lambda x: (x.col1[0],x.col2[0]), axis = 1, result_type='expand')\n",
    "\n",
    "house_data = house_data.drop(columns=['easting','northing','col1','col2'])\n",
    "house_data\n"
   ]
  },
  {
   "cell_type": "markdown",
   "metadata": {},
   "source": [
    "# Plotting flooding risk and housing price maps"
   ]
  },
  {
   "cell_type": "code",
   "execution_count": null,
   "metadata": {},
   "outputs": [],
   "source": [
    "import folium\n",
    "from collections import defaultdict\n",
    "import branca.colormap\n",
    "from folium import plugins"
   ]
  },
  {
   "cell_type": "code",
   "execution_count": null,
   "metadata": {
    "scrolled": false
   },
   "outputs": [],
   "source": [
    "def flood_risk_map():\n",
    "    steps = 10\n",
    "    colormap = branca.colormap.LinearColormap(colors=['yellow','red'], index=[1,10],vmin=1,vmax=10)\n",
    "    map = plot_circle(53., 0, 2000.)\n",
    "    # for i in range(steps):\n",
    "    #     gradient_map[1/steps*i] = colormap.rgb_hex_str(1/steps*i)\n",
    "\n",
    "    colormap.add_to(map)\n",
    "\n",
    "    for loc, p in zip(zip(flood_risk_data[\"latitude\"], flood_risk_data[\"longitude\"]), flood_risk_data[\"riskLabel\"]):\n",
    "        folium.Circle(\n",
    "            location=loc,\n",
    "            radius=10,\n",
    "            fill=True,\n",
    "            color=colormap(p),\n",
    "            fill_opacity=0.7\n",
    "        ).add_to(map)\n",
    "\n",
    "    map.add_child(colormap)\n",
    "    return map\n",
    "\n",
    "flood_risk_map()"
   ]
  },
  {
   "cell_type": "code",
   "execution_count": null,
   "metadata": {},
   "outputs": [],
   "source": [
    "def house_price_map():\n",
    "    steps = 10\n",
    "    colormap = branca.colormap.LinearColormap(colors=['yellow','red'], index=[0,1000000],vmin=0,vmax=112409100)\n",
    "    map = plot_circle(53., 0, 2000.)\n",
    "    # for i in range(steps):\n",
    "    #     gradient_map[1/steps*i] = colormap.rgb_hex_str(1/steps*i)\n",
    "\n",
    "    colormap.add_to(map)\n",
    "\n",
    "    for loc, p in zip(zip(house_data[\"latitude\"], house_data[\"longitude\"]), house_data[\"medianPrice\"]):\n",
    "        folium.Circle(\n",
    "            location=loc,\n",
    "            radius=10,\n",
    "            fill=True,\n",
    "            color=colormap(p),\n",
    "            fill_opacity=0.7\n",
    "        ).add_to(map)\n",
    "\n",
    "    map.add_child(colormap)\n",
    "    return map\n",
    "\n",
    "house_price_map()"
   ]
  },
  {
   "cell_type": "code",
   "execution_count": null,
   "metadata": {},
   "outputs": [],
   "source": [
    "v\n"
   ]
  },
  {
   "cell_type": "markdown",
   "metadata": {},
   "source": [
    "# Widget Experimentation"
   ]
  },
  {
   "cell_type": "code",
   "execution_count": 1,
   "metadata": {},
   "outputs": [],
   "source": [
    "from __future__ import print_function\n",
    "from ipywidgets import interact, interactive, fixed, interact_manual\n",
    "import ipywidgets as widgets\n",
    "\n",
    "import sys\n",
    "sys.path.append('./flood_tool')\n",
    "from geo import *\n",
    "from tool import *\n",
    "from mapping import *"
   ]
  },
  {
   "cell_type": "code",
   "execution_count": null,
   "metadata": {},
   "outputs": [],
   "source": [
    "Tool()"
   ]
  },
  {
   "cell_type": "code",
   "execution_count": 3,
   "metadata": {},
   "outputs": [
    {
     "data": {
      "application/vnd.jupyter.widget-view+json": {
       "model_id": "8e2a3fdb7f5846afbd2693e39cb6d030",
       "version_major": 2,
       "version_minor": 0
      },
      "text/plain": [
       "interactive(children=(Combobox(value='YO62 4LS', description='x', options=('YO62 4LS', 'DE2 3DA', 'LN5 7RW', '…"
      ]
     },
     "metadata": {},
     "output_type": "display_data"
    }
   ],
   "source": [
    "from house_flood_interface import *\n",
    "tool = Tool()\n",
    "interact(f_widget_flood, x=widgets.Combobox(options=df1.postcode.tolist(), value=\"YO62 4LS\"));"
   ]
  },
  {
   "cell_type": "code",
   "execution_count": 2,
   "metadata": {},
   "outputs": [
    {
     "data": {
      "application/vnd.jupyter.widget-view+json": {
       "model_id": "50d94ce9cae040d4ad6033e8d013ab62",
       "version_major": 2,
       "version_minor": 0
      },
      "text/plain": [
       "interactive(children=(Combobox(value='YO62 4LS', description='x', options=('YO62 4LS', 'DE2 3DA', 'LN5 7RW', '…"
      ]
     },
     "metadata": {},
     "output_type": "display_data"
    }
   ],
   "source": [
    "from house_flood_interface import *\n",
    "interact(f_widget_house, x=widgets.Combobox(options=df1.postcode.tolist(), value=\"YO62 4LS\"));"
   ]
  },
  {
   "cell_type": "code",
   "execution_count": null,
   "metadata": {
    "scrolled": true
   },
   "outputs": [],
   "source": [
    "def flood_risk_map(postcode):\n",
    "    steps = 10\n",
    "    colormap = branca.colormap.LinearColormap(colors=['yellow','red'], index=[1,10],vmin=1,vmax=10)\n",
    "    map = plot_circle(53., 0, 2000.)\n",
    "    colormap.add_to(map)\n",
    "\n",
    "    for loc, p in zip(zip(flood_risk_data[\"latitude\"], flood_risk_data[\"longitude\"]), flood_risk_data[\"riskLabel\"]):\n",
    "        folium.Circle(\n",
    "            location=loc,\n",
    "            radius=10,\n",
    "            fill=True,\n",
    "            color=colormap(p),\n",
    "            fill_opacity=0.7\n",
    "        ).add_to(map)\n",
    "\n",
    "    map.add_child(colormap)\n",
    "\n",
    "#     postcode = 'YO62 4LS'\n",
    "    position = tool.get_lat_long([postcode])\n",
    "    flood_risk_series = tool.get_flood_class([postcode], 1)\n",
    "    flood_value = flood_risk_series.values[0]\n",
    "    folium.Marker(\n",
    "      location=[position['lat'], position['lon']],\n",
    "      popup=f'postcode: {postcode} \\n flood risk: {flood_value}' ,\n",
    "    ).add_to(map)\n",
    "    return map\n",
    "\n",
    "def f_widget_flood(x):\n",
    "    return flood_risk_map(x)\n",
    "\n",
    "interact(f_widget_flood, x=widgets.Combobox(options=df1.postcode.tolist(), value=\"YO62 4LS\"));"
   ]
  },
  {
   "cell_type": "code",
   "execution_count": 4,
   "metadata": {},
   "outputs": [
    {
     "data": {
      "application/vnd.jupyter.widget-view+json": {
       "model_id": "073f481234bc488a8e1ae41eb281304a",
       "version_major": 2,
       "version_minor": 0
      },
      "text/plain": [
       "interactive(children=(Combobox(value='YO62 4LS', description='x', options=('YO62 4LS', 'DE2 3DA', 'LN5 7RW', '…"
      ]
     },
     "metadata": {},
     "output_type": "display_data"
    }
   ],
   "source": [
    "def house_price_map(postcode):\n",
    "    steps = 10\n",
    "    colormap = branca.colormap.LinearColormap(colors=['yellow','red'], index=[0,1000000],vmin=0,vmax=112409100)\n",
    "    map = plot_circle(53., 0, 2000.)\n",
    "    # for i in range(steps):\n",
    "    #     gradient_map[1/steps*i] = colormap.rgb_hex_str(1/steps*i)\n",
    "\n",
    "    colormap.add_to(map)\n",
    "\n",
    "    for loc, p in zip(zip(house_data[\"latitude\"], house_data[\"longitude\"]), house_data[\"medianPrice\"]):\n",
    "        folium.Circle(\n",
    "            location=loc,\n",
    "            radius=10,\n",
    "            fill=True,\n",
    "            color=colormap(p),\n",
    "            fill_opacity=0.7\n",
    "        ).add_to(map)\n",
    "\n",
    "    map.add_child(colormap)\n",
    "    position = tool.get_lat_long([postcode])\n",
    "    house_price_series = tool.get_median_house_price_estimate([postcode], 1)\n",
    "    price_value = house_price_series.values[0]\n",
    "    folium.Marker(\n",
    "      location=[position['lat'], position['lon']],\n",
    "      popup=f'postcode: {postcode} \\n flood risk: {price_value}' ,\n",
    "    ).add_to(map)\n",
    "    return map\n",
    "\n",
    "def f_widget_house(x):\n",
    "    return house_price_map(x)\n",
    "\n",
    "interact(f_widget_house, x=widgets.Combobox(options=df1.postcode.tolist(), value=\"YO62 4LS\"));"
   ]
  },
  {
   "cell_type": "code",
   "execution_count": null,
   "metadata": {},
   "outputs": [],
   "source": []
  }
 ],
 "metadata": {
  "celltoolbar": "Slideshow",
  "interpreter": {
   "hash": "bdad7588bd4ac3ea9e7582865ff4bd8e833b6b3862959a8fbc3a5685fe0823d5"
  },
  "kernelspec": {
   "display_name": "Python 3",
   "language": "python",
   "name": "python3"
  },
  "language_info": {
   "codemirror_mode": {
    "name": "ipython",
    "version": 3
   },
   "file_extension": ".py",
   "mimetype": "text/x-python",
   "name": "python",
   "nbconvert_exporter": "python",
   "pygments_lexer": "ipython3",
   "version": "3.9.7"
  },
  "toc": {
   "base_numbering": 1,
   "nav_menu": {},
   "number_sections": true,
   "sideBar": true,
   "skip_h1_title": false,
   "title_cell": "Table of Contents",
   "title_sidebar": "Contents",
   "toc_cell": false,
   "toc_position": {},
   "toc_section_display": true,
   "toc_window_display": false
  }
 },
 "nbformat": 4,
 "nbformat_minor": 2
}
