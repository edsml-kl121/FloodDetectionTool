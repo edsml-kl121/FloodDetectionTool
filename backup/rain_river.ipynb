{
 "cells": [
  {
   "cell_type": "code",
   "execution_count": 2,
   "id": "a82bd8b9",
   "metadata": {},
   "outputs": [
    {
     "name": "stdout",
     "output_type": "stream",
     "text": [
      "/Users/wangziyou/Documents/GitHub/ads-deluge-wye/flood_tool\n"
     ]
    }
   ],
   "source": [
    "cd flood_tool"
   ]
  },
  {
   "cell_type": "code",
   "execution_count": 3,
   "id": "81fe1270",
   "metadata": {},
   "outputs": [
    {
     "ename": "IndentationError",
     "evalue": "expected an indented block (geo.py, line 208)",
     "output_type": "error",
     "traceback": [
      "Traceback \u001b[0;36m(most recent call last)\u001b[0m:\n",
      "  File \u001b[1;32m\"/Users/wangziyou/opt/miniconda3/envs/environmental-data/lib/python3.9/site-packages/IPython/core/interactiveshell.py\"\u001b[0m, line \u001b[1;32m3444\u001b[0m, in \u001b[1;35mrun_code\u001b[0m\n    exec(code_obj, self.user_global_ns, self.user_ns)\n",
      "\u001b[0;36m  File \u001b[0;32m\"/var/folders/7b/tft5k8b51nz7zqm__rf82cn80000gn/T/ipykernel_22110/1445022257.py\"\u001b[0;36m, line \u001b[0;32m5\u001b[0;36m, in \u001b[0;35m<module>\u001b[0;36m\u001b[0m\n\u001b[0;31m    from geo import *\u001b[0m\n",
      "\u001b[0;36m  File \u001b[0;32m\"/Users/wangziyou/Documents/GitHub/ads-deluge-wye/geo.py\"\u001b[0;36m, line \u001b[0;32m208\u001b[0m\n\u001b[0;31m    lat, latold = latold, lat\u001b[0m\n\u001b[0m    ^\u001b[0m\n\u001b[0;31mIndentationError\u001b[0m\u001b[0;31m:\u001b[0m expected an indented block\n"
     ]
    }
   ],
   "source": [
    "import pandas as pd\n",
    "import numpy as np\n",
    "import matplotlib.pyplot as plt\n",
    "import folium\n",
    "from geo import *\n",
    "from tool import *"
   ]
  },
  {
   "cell_type": "markdown",
   "id": "357e5ce5",
   "metadata": {},
   "source": [
    "## Station reference, name and position (lat, lon)"
   ]
  },
  {
   "cell_type": "code",
   "execution_count": 4,
   "id": "16512271",
   "metadata": {
    "scrolled": true
   },
   "outputs": [
    {
     "data": {
      "text/html": [
       "<div>\n",
       "<style scoped>\n",
       "    .dataframe tbody tr th:only-of-type {\n",
       "        vertical-align: middle;\n",
       "    }\n",
       "\n",
       "    .dataframe tbody tr th {\n",
       "        vertical-align: top;\n",
       "    }\n",
       "\n",
       "    .dataframe thead th {\n",
       "        text-align: right;\n",
       "    }\n",
       "</style>\n",
       "<table border=\"1\" class=\"dataframe\">\n",
       "  <thead>\n",
       "    <tr style=\"text-align: right;\">\n",
       "      <th></th>\n",
       "      <th>stationReference</th>\n",
       "      <th>stationName</th>\n",
       "      <th>latitude</th>\n",
       "      <th>longitude</th>\n",
       "    </tr>\n",
       "  </thead>\n",
       "  <tbody>\n",
       "    <tr>\n",
       "      <th>1980</th>\n",
       "      <td>L3211</td>\n",
       "      <td>Hessle</td>\n",
       "      <td>53.719075</td>\n",
       "      <td>-0.434087</td>\n",
       "    </tr>\n",
       "    <tr>\n",
       "      <th>1981</th>\n",
       "      <td>Mitch1</td>\n",
       "      <td>Rainfall station</td>\n",
       "      <td>53.742978</td>\n",
       "      <td>-2.323663</td>\n",
       "    </tr>\n",
       "    <tr>\n",
       "      <th>1982</th>\n",
       "      <td>PCHURCH_TG_342</td>\n",
       "      <td>Peterchurch</td>\n",
       "      <td>52.041372</td>\n",
       "      <td>-2.955501</td>\n",
       "    </tr>\n",
       "    <tr>\n",
       "      <th>1983</th>\n",
       "      <td>SE730</td>\n",
       "      <td>LENSIDE GS</td>\n",
       "      <td>51.272544</td>\n",
       "      <td>0.525902</td>\n",
       "    </tr>\n",
       "    <tr>\n",
       "      <th>1984</th>\n",
       "      <td>VCHURCH-T_TG_341</td>\n",
       "      <td>Rainfall station</td>\n",
       "      <td>52.023749</td>\n",
       "      <td>-2.921750</td>\n",
       "    </tr>\n",
       "  </tbody>\n",
       "</table>\n",
       "</div>"
      ],
      "text/plain": [
       "      stationReference       stationName   latitude  longitude\n",
       "1980             L3211            Hessle  53.719075  -0.434087\n",
       "1981            Mitch1  Rainfall station  53.742978  -2.323663\n",
       "1982    PCHURCH_TG_342       Peterchurch  52.041372  -2.955501\n",
       "1983             SE730        LENSIDE GS  51.272544   0.525902\n",
       "1984  VCHURCH-T_TG_341  Rainfall station  52.023749  -2.921750"
      ]
     },
     "execution_count": 4,
     "metadata": {},
     "output_type": "execute_result"
    }
   ],
   "source": [
    "# The data on measurement stations\n",
    "\n",
    "df1 = pd.read_csv('./resources/stations.csv')\n",
    "df1.tail()"
   ]
  },
  {
   "cell_type": "code",
   "execution_count": 5,
   "id": "6e3b8eb7",
   "metadata": {},
   "outputs": [
    {
     "name": "stdout",
     "output_type": "stream",
     "text": [
      "1985\n"
     ]
    }
   ],
   "source": [
    "print(len(df1))"
   ]
  },
  {
   "cell_type": "code",
   "execution_count": 5,
   "id": "c5f6ed39",
   "metadata": {
    "scrolled": true
   },
   "outputs": [
    {
     "data": {
      "text/plain": [
       "stationReference    0\n",
       "stationName         4\n",
       "latitude            7\n",
       "longitude           7\n",
       "dtype: int64"
      ]
     },
     "execution_count": 5,
     "metadata": {},
     "output_type": "execute_result"
    }
   ],
   "source": [
    "df1.isna().sum()"
   ]
  },
  {
   "cell_type": "code",
   "execution_count": 6,
   "id": "080a6aa7",
   "metadata": {},
   "outputs": [],
   "source": [
    "#    drop stations with no lat and lon data\n",
    "\n",
    "remove_stations = df1[df1['latitude'].isna()]['stationReference'].values\n",
    "df1.drop(index = df1[df1['latitude'].isna()].index, inplace=True);\n"
   ]
  },
  {
   "cell_type": "code",
   "execution_count": 7,
   "id": "4d82c69f",
   "metadata": {},
   "outputs": [
    {
     "name": "stdout",
     "output_type": "stream",
     "text": [
      "0\n"
     ]
    }
   ],
   "source": [
    "print(df1.duplicated().sum())\n",
    "#df1 = df1.drop_duplicates()"
   ]
  },
  {
   "cell_type": "markdown",
   "id": "ee63a6bc",
   "metadata": {},
   "source": [
    "## Data for a wet day"
   ]
  },
  {
   "cell_type": "code",
   "execution_count": 6,
   "id": "409a4629",
   "metadata": {},
   "outputs": [
    {
     "name": "stderr",
     "output_type": "stream",
     "text": [
      "/Users/wangziyou/opt/miniconda3/envs/environmental-data/lib/python3.9/site-packages/IPython/core/interactiveshell.py:3444: DtypeWarning: Columns (5) have mixed types.Specify dtype option on import or set low_memory=False.\n",
      "  exec(code_obj, self.user_global_ns, self.user_ns)\n"
     ]
    },
    {
     "data": {
      "text/html": [
       "<div>\n",
       "<style scoped>\n",
       "    .dataframe tbody tr th:only-of-type {\n",
       "        vertical-align: middle;\n",
       "    }\n",
       "\n",
       "    .dataframe tbody tr th {\n",
       "        vertical-align: top;\n",
       "    }\n",
       "\n",
       "    .dataframe thead th {\n",
       "        text-align: right;\n",
       "    }\n",
       "</style>\n",
       "<table border=\"1\" class=\"dataframe\">\n",
       "  <thead>\n",
       "    <tr style=\"text-align: right;\">\n",
       "      <th></th>\n",
       "      <th>dateTime</th>\n",
       "      <th>stationReference</th>\n",
       "      <th>parameter</th>\n",
       "      <th>qualifier</th>\n",
       "      <th>unitName</th>\n",
       "      <th>value</th>\n",
       "    </tr>\n",
       "  </thead>\n",
       "  <tbody>\n",
       "    <tr>\n",
       "      <th>0</th>\n",
       "      <td>2021-05-07T00:00:00Z</td>\n",
       "      <td>E5726</td>\n",
       "      <td>rainfall</td>\n",
       "      <td>Tipping Bucket Raingauge</td>\n",
       "      <td>mm</td>\n",
       "      <td>0.000</td>\n",
       "    </tr>\n",
       "    <tr>\n",
       "      <th>1</th>\n",
       "      <td>2021-05-07T00:00:00Z</td>\n",
       "      <td>48155</td>\n",
       "      <td>rainfall</td>\n",
       "      <td>Tipping Bucket Raingauge</td>\n",
       "      <td>mm</td>\n",
       "      <td>0.000</td>\n",
       "    </tr>\n",
       "    <tr>\n",
       "      <th>2</th>\n",
       "      <td>2021-05-07T00:00:00Z</td>\n",
       "      <td>48105</td>\n",
       "      <td>rainfall</td>\n",
       "      <td>Tipping Bucket Raingauge</td>\n",
       "      <td>mm</td>\n",
       "      <td>0.000</td>\n",
       "    </tr>\n",
       "    <tr>\n",
       "      <th>3</th>\n",
       "      <td>2021-05-07T00:00:00Z</td>\n",
       "      <td>2927TH</td>\n",
       "      <td>level</td>\n",
       "      <td>Stage</td>\n",
       "      <td>mASD</td>\n",
       "      <td>0.795</td>\n",
       "    </tr>\n",
       "    <tr>\n",
       "      <th>4</th>\n",
       "      <td>2021-05-07T00:00:00Z</td>\n",
       "      <td>0710TH</td>\n",
       "      <td>level</td>\n",
       "      <td>Stage</td>\n",
       "      <td>mASD</td>\n",
       "      <td>1.964</td>\n",
       "    </tr>\n",
       "  </tbody>\n",
       "</table>\n",
       "</div>"
      ],
      "text/plain": [
       "               dateTime stationReference parameter                 qualifier  \\\n",
       "0  2021-05-07T00:00:00Z            E5726  rainfall  Tipping Bucket Raingauge   \n",
       "1  2021-05-07T00:00:00Z            48155  rainfall  Tipping Bucket Raingauge   \n",
       "2  2021-05-07T00:00:00Z            48105  rainfall  Tipping Bucket Raingauge   \n",
       "3  2021-05-07T00:00:00Z           2927TH     level                     Stage   \n",
       "4  2021-05-07T00:00:00Z           0710TH     level                     Stage   \n",
       "\n",
       "  unitName  value  \n",
       "0       mm  0.000  \n",
       "1       mm  0.000  \n",
       "2       mm  0.000  \n",
       "3     mASD  0.795  \n",
       "4     mASD  1.964  "
      ]
     },
     "execution_count": 6,
     "metadata": {},
     "output_type": "execute_result"
    }
   ],
   "source": [
    "# The data for a wet day\n",
    "\n",
    "df2 = pd.read_csv('./resources/wet_day.csv')\n",
    "df2.head()"
   ]
  },
  {
   "cell_type": "code",
   "execution_count": 9,
   "id": "4f06c346",
   "metadata": {
    "scrolled": true
   },
   "outputs": [
    {
     "name": "stdout",
     "output_type": "stream",
     "text": [
      "191470\n",
      "2021-05-07T00:00:00Z    2021-05-07T23:59:00Z\n",
      "['rainfall' 'level']\n",
      "units ['mm' 'mASD']\n",
      "1985\n",
      "['Tipping Bucket Raingauge' 'Stage' 'Water' nan 'Logged' '1' '2'\n",
      " 'Crest Tapping' 'Height']\n"
     ]
    }
   ],
   "source": [
    "print(len(df2))\n",
    "print(df2['dateTime'].min(),'  ', df2['dateTime'].max())   # data for a 24hour period\n",
    "print(df2['parameter'].unique())\n",
    "print('units', df2['unitName'].unique())\n",
    "print(len(df2['stationReference'].unique()))\n",
    "print(df2['qualifier'].unique())"
   ]
  },
  {
   "cell_type": "code",
   "execution_count": 10,
   "id": "bff158d7",
   "metadata": {},
   "outputs": [
    {
     "name": "stdout",
     "output_type": "stream",
     "text": [
      "191\n"
     ]
    }
   ],
   "source": [
    "print(df2.duplicated().sum())\n",
    "df2 = df2.drop_duplicates()"
   ]
  },
  {
   "cell_type": "code",
   "execution_count": 11,
   "id": "2da0abec",
   "metadata": {},
   "outputs": [
    {
     "data": {
      "text/plain": [
       "dateTime             0\n",
       "stationReference     0\n",
       "parameter            0\n",
       "qualifier           40\n",
       "unitName             0\n",
       "value                1\n",
       "dtype: int64"
      ]
     },
     "execution_count": 11,
     "metadata": {},
     "output_type": "execute_result"
    }
   ],
   "source": [
    "df2.isna().sum()"
   ]
  },
  {
   "cell_type": "code",
   "execution_count": 12,
   "id": "937082c4",
   "metadata": {},
   "outputs": [],
   "source": [
    "df2 = df2.fillna(0)"
   ]
  },
  {
   "cell_type": "code",
   "execution_count": 13,
   "id": "19ddd654",
   "metadata": {},
   "outputs": [],
   "source": [
    "# remove unwanted stations (with no lat lon)\n",
    "for ref in remove_stations:\n",
    "    df2 = df2.drop(index = df2[df2['stationReference']== ref].index) \n",
    "df2.reset_index(drop=True, inplace=True);"
   ]
  },
  {
   "cell_type": "code",
   "execution_count": 14,
   "id": "76e552ce",
   "metadata": {},
   "outputs": [
    {
     "data": {
      "text/plain": [
       "190510"
      ]
     },
     "execution_count": 14,
     "metadata": {},
     "output_type": "execute_result"
    }
   ],
   "source": [
    "len(df2)"
   ]
  },
  {
   "cell_type": "code",
   "execution_count": 15,
   "id": "8aad6d93",
   "metadata": {
    "scrolled": true
   },
   "outputs": [],
   "source": [
    "# df2['value'] = pd.to_numeric(df2['value'], downcast=\"float\")"
   ]
  },
  {
   "cell_type": "code",
   "execution_count": 16,
   "id": "348849ed",
   "metadata": {},
   "outputs": [],
   "source": [
    "values = []\n",
    "for value in df2['value'].values:\n",
    "    try:\n",
    "        value = float(value)\n",
    "    except ValueError:\n",
    "        values.append(value)"
   ]
  },
  {
   "cell_type": "code",
   "execution_count": 17,
   "id": "b60b21f7",
   "metadata": {},
   "outputs": [
    {
     "data": {
      "text/plain": [
       "['0.201|0.109',\n",
       " '0.260|0.267',\n",
       " '0.628|0.614',\n",
       " '0.209|0.200',\n",
       " '0.628|0.614',\n",
       " '0.200|0.109',\n",
       " '0.209|0.200',\n",
       " '0.260|0.257',\n",
       " '0.209|0.201',\n",
       " '0.109|0.196',\n",
       " '0.628|0.614',\n",
       " '0.209|0.201',\n",
       " '0.628|0.614',\n",
       " '0.194|0.109',\n",
       " '0.109|0.196',\n",
       " '0.628|0.614',\n",
       " '0.260|0.257',\n",
       " '0.209|0.200',\n",
       " '0.109|0.196',\n",
       " '0.278|0.269',\n",
       " '0.628|0.614',\n",
       " '0.209|0.200',\n",
       " '0.209|0.200',\n",
       " '0.279|0.283',\n",
       " '0.628|0.614',\n",
       " '0.109|0.195',\n",
       " '0.209|0.200',\n",
       " '0.628|0.614',\n",
       " '0.194|0.109',\n",
       " '0.192|0.109',\n",
       " '0.286|0.287',\n",
       " '0.209|0.200',\n",
       " '0.628|0.614',\n",
       " '0.209|0.200',\n",
       " '0.286|0.291',\n",
       " '0.628|0.614',\n",
       " '0.192|0.109',\n",
       " '0.209|0.200',\n",
       " '0.628|0.614',\n",
       " '0.286|0.288',\n",
       " '0.190|0.109',\n",
       " '0.286|0.288',\n",
       " '0.209|0.200',\n",
       " '0.190|0.109',\n",
       " '0.628|0.614',\n",
       " '0.292|0.287',\n",
       " '0.209|0.199',\n",
       " '0.628|0.614',\n",
       " '0.190|0.109',\n",
       " '0.629|0.614',\n",
       " '0.190|0.109',\n",
       " '0.294|0.287',\n",
       " '0.209|0.199',\n",
       " '0.628|0.614',\n",
       " '0.288|0.290',\n",
       " '0.190|0.109',\n",
       " '0.209|0.199',\n",
       " '0.209|0.199',\n",
       " '0.190|0.109',\n",
       " '0.296|0.288',\n",
       " '0.628|0.614',\n",
       " '0.199|0.208',\n",
       " '0.286|0.293',\n",
       " '0.190|0.109',\n",
       " '0.629|0.614',\n",
       " '0.199|0.208',\n",
       " '0.288|0.289',\n",
       " '0.629|0.614',\n",
       " '0.109|0.189',\n",
       " '0.198|0.208',\n",
       " '0.188|0.109',\n",
       " '0.288|0.283',\n",
       " '0.629|0.614',\n",
       " '0.198|0.208',\n",
       " '0.629|0.614',\n",
       " '0.294|0.287',\n",
       " '0.187|0.109',\n",
       " '0.629|0.614',\n",
       " '0.187|0.109',\n",
       " '0.198|0.208',\n",
       " '0.286|0.287',\n",
       " '0.198|0.208',\n",
       " '0.277|0.283',\n",
       " '0.629|0.614',\n",
       " '0.187|0.109',\n",
       " '0.187|0.109',\n",
       " '0.291|0.283',\n",
       " '0.629|0.614',\n",
       " '0.198|0.208',\n",
       " '0.282|0.276',\n",
       " '0.613|0.629',\n",
       " '0.207|0.198',\n",
       " '0.187|0.109',\n",
       " '0.280|0.283',\n",
       " '0.187|0.109',\n",
       " '0.207|0.197',\n",
       " '0.613|0.629',\n",
       " '0.629|0.612',\n",
       " '0.187|0.109',\n",
       " '0.207|0.197',\n",
       " '0.207|0.197',\n",
       " '0.278|0.270',\n",
       " '0.187|0.109',\n",
       " '0.628|0.612',\n",
       " '0.628|0.611',\n",
       " '0.109|0.186',\n",
       " '0.275|0.274',\n",
       " '0.207|0.197',\n",
       " '0.628|0.610',\n",
       " '0.187|0.109',\n",
       " '0.207|0.197',\n",
       " '0.275|0.274',\n",
       " '0.627|0.610',\n",
       " '0.278|0.271',\n",
       " '0.207|0.197',\n",
       " '0.185|0.109',\n",
       " '0.185|0.109',\n",
       " '0.272|0.271',\n",
       " '0.207|0.198',\n",
       " '0.627|0.610',\n",
       " '0.207|0.198',\n",
       " '0.609|0.627',\n",
       " '0.185|0.109',\n",
       " '0.275|0.270',\n",
       " '0.276|0.270',\n",
       " '0.207|0.198',\n",
       " '0.626|0.609',\n",
       " '0.109|0.184',\n",
       " '0.626|0.609',\n",
       " '0.199|0.207',\n",
       " '0.109|0.184',\n",
       " '0.109|0.184',\n",
       " '0.260|0.268',\n",
       " '0.207|0.198',\n",
       " '0.626|0.608',\n",
       " '0.109|0.184',\n",
       " '0.624|0.606',\n",
       " '0.264|0.266',\n",
       " '0.207|0.198',\n",
       " '0.183|0.109',\n",
       " '0.207|0.198',\n",
       " '0.618|0.602',\n",
       " '0.264|0.267',\n",
       " '0.207|0.198',\n",
       " '0.183|0.109',\n",
       " '0.597|0.614',\n",
       " '0.260|0.257',\n",
       " '0.183|0.109',\n",
       " '0.256|0.257',\n",
       " '0.592|0.611',\n",
       " '0.207|0.197',\n",
       " '0.245|0.251',\n",
       " '0.183|0.109',\n",
       " '0.207|0.197',\n",
       " '0.608|0.590',\n",
       " '0.607|0.587',\n",
       " '0.183|0.109',\n",
       " '0.206|0.197',\n",
       " '0.251|0.244',\n",
       " '0.588|0.608',\n",
       " '0.183|0.108',\n",
       " '0.183|0.107',\n",
       " '0.250|0.249',\n",
       " '0.250|0.248',\n",
       " '0.109|0.181',\n",
       " '0.246|0.247',\n",
       " '0.182|0.109',\n",
       " '0.182|0.109',\n",
       " '0.247|0.248',\n",
       " '0.182|0.109',\n",
       " '0.247|0.248',\n",
       " '0.248|0.249',\n",
       " '0.182|0.109',\n",
       " '0.248|0.249',\n",
       " '0.177|0.181',\n",
       " '0.244|0.249',\n",
       " '0.177|0.180',\n",
       " '0.176|0.181',\n",
       " '0.251|0.249',\n",
       " '0.175|0.174',\n",
       " '0.252|0.248',\n",
       " '0.170|0.174',\n",
       " '0.243|0.240',\n",
       " '0.175|0.169',\n",
       " '0.236|0.235',\n",
       " '0.226|0.220',\n",
       " '0.222|0.220']"
      ]
     },
     "execution_count": 17,
     "metadata": {},
     "output_type": "execute_result"
    }
   ],
   "source": [
    "values"
   ]
  },
  {
   "cell_type": "code",
   "execution_count": 18,
   "id": "f6bc9a4f",
   "metadata": {},
   "outputs": [],
   "source": [
    "# this is slooooow. change this.\n",
    "for i in range(len(df2)):\n",
    "    try:\n",
    "        df2['value'][i] = float(df2['value'][i])\n",
    "    except ValueError:\n",
    "        df2['value'][i] = float(df2['value'][i].split('|')[0])"
   ]
  },
  {
   "cell_type": "code",
   "execution_count": 19,
   "id": "07afdbe7",
   "metadata": {},
   "outputs": [],
   "source": [
    "df2['value'] = pd.to_numeric(df2['value'], downcast=\"float\")"
   ]
  },
  {
   "cell_type": "code",
   "execution_count": 20,
   "id": "bbcdabeb",
   "metadata": {},
   "outputs": [],
   "source": [
    "wet_river_df = df2[df2['parameter']=='level']\n",
    "wet_rain_df = df2[df2['parameter']=='rainfall']"
   ]
  },
  {
   "cell_type": "code",
   "execution_count": 21,
   "id": "f6dc38cd",
   "metadata": {},
   "outputs": [],
   "source": [
    "# rainfall data every 15 mins "
   ]
  },
  {
   "cell_type": "code",
   "execution_count": 22,
   "id": "05f1f10b",
   "metadata": {
    "scrolled": true
   },
   "outputs": [
    {
     "name": "stdout",
     "output_type": "stream",
     "text": [
      "river.   min: -61.0 max: 83.0\n",
      "rainfall.   min: 0.0 max: 3276.699951171875\n"
     ]
    }
   ],
   "source": [
    "print('river.   min:', wet_river_df['value'].min(), 'max:',wet_river_df['value'].max())\n",
    "print('rainfall.   min:', wet_rain_df['value'].min(), 'max:',wet_rain_df['value'].max())"
   ]
  },
  {
   "cell_type": "code",
   "execution_count": 23,
   "id": "06ba75a7",
   "metadata": {},
   "outputs": [
    {
     "data": {
      "image/png": "[encoded data removed]",
      "text/plain": [
       "<Figure size 432x288 with 1 Axes>"
      ]
     },
     "metadata": {
      "needs_background": "light"
     },
     "output_type": "display_data"
    }
   ],
   "source": [
    "wet_rain_df[['value']].boxplot();"
   ]
  },
  {
   "cell_type": "code",
   "execution_count": 24,
   "id": "0d18e496",
   "metadata": {},
   "outputs": [
    {
     "data": {
      "text/html": [
       "<div>\n",
       "<style scoped>\n",
       "    .dataframe tbody tr th:only-of-type {\n",
       "        vertical-align: middle;\n",
       "    }\n",
       "\n",
       "    .dataframe tbody tr th {\n",
       "        vertical-align: top;\n",
       "    }\n",
       "\n",
       "    .dataframe thead th {\n",
       "        text-align: right;\n",
       "    }\n",
       "</style>\n",
       "<table border=\"1\" class=\"dataframe\">\n",
       "  <thead>\n",
       "    <tr style=\"text-align: right;\">\n",
       "      <th></th>\n",
       "      <th>dateTime</th>\n",
       "      <th>stationReference</th>\n",
       "      <th>parameter</th>\n",
       "      <th>qualifier</th>\n",
       "      <th>unitName</th>\n",
       "      <th>value</th>\n",
       "    </tr>\n",
       "  </thead>\n",
       "  <tbody>\n",
       "    <tr>\n",
       "      <th>70384</th>\n",
       "      <td>2021-05-07T08:45:00Z</td>\n",
       "      <td>564154</td>\n",
       "      <td>rainfall</td>\n",
       "      <td>Tipping Bucket Raingauge</td>\n",
       "      <td>mm</td>\n",
       "      <td>3276.699951</td>\n",
       "    </tr>\n",
       "  </tbody>\n",
       "</table>\n",
       "</div>"
      ],
      "text/plain": [
       "                   dateTime stationReference parameter  \\\n",
       "70384  2021-05-07T08:45:00Z           564154  rainfall   \n",
       "\n",
       "                      qualifier unitName        value  \n",
       "70384  Tipping Bucket Raingauge       mm  3276.699951  "
      ]
     },
     "execution_count": 24,
     "metadata": {},
     "output_type": "execute_result"
    }
   ],
   "source": [
    "df2[df2['value'] == 3276.7]"
   ]
  },
  {
   "cell_type": "code",
   "execution_count": 25,
   "id": "2797bf26",
   "metadata": {},
   "outputs": [
    {
     "name": "stdout",
     "output_type": "stream",
     "text": [
      "                   dateTime stationReference parameter  \\\n",
      "72624  2021-05-07T09:00:00Z           564154  rainfall   \n",
      "\n",
      "                      qualifier unitName  value  \n",
      "72624  Tipping Bucket Raingauge       mm    0.0  \n",
      "                   dateTime stationReference parameter  \\\n",
      "69148  2021-05-07T08:30:00Z           564154  rainfall   \n",
      "\n",
      "                      qualifier unitName  value  \n",
      "69148  Tipping Bucket Raingauge       mm    0.0  \n"
     ]
    }
   ],
   "source": [
    "a = df2[df2['stationReference'] == '564154']\n",
    "print(a[a['dateTime'] =='2021-05-07T09:00:00Z'])\n",
    "print(a[a['dateTime'] =='2021-05-07T08:30:00Z'])"
   ]
  },
  {
   "cell_type": "code",
   "execution_count": 26,
   "id": "778615b8",
   "metadata": {},
   "outputs": [],
   "source": [
    "# change value\n",
    "df2.loc[70384, 'value'] = 0.0"
   ]
  },
  {
   "cell_type": "code",
   "execution_count": 27,
   "id": "2090daed",
   "metadata": {},
   "outputs": [],
   "source": [
    "wet_rain_df = df2[df2['parameter']=='rainfall']"
   ]
  },
  {
   "cell_type": "code",
   "execution_count": 28,
   "id": "e7a71dc2",
   "metadata": {},
   "outputs": [],
   "source": [
    "# wet_rain_df[wet_rain_df['value'] > 20]\n",
    "# a = df2[df2['stationReference'] == '1140']\n",
    "# print(a[a['dateTime'] =='2021-05-07T07:00:00Z'])\n",
    "# print(a[a['dateTime'] =='2021-05-07T06:45:00Z'])\n",
    "# print(a[a['dateTime'] =='2021-05-07T07:45:00Z'])"
   ]
  },
  {
   "cell_type": "code",
   "execution_count": 29,
   "id": "982df899",
   "metadata": {},
   "outputs": [
    {
     "data": {
      "image/png": "[encoded data removed]",
      "text/plain": [
       "<Figure size 432x288 with 1 Axes>"
      ]
     },
     "metadata": {
      "needs_background": "light"
     },
     "output_type": "display_data"
    }
   ],
   "source": [
    "wet_river_df[['value']].boxplot();"
   ]
  },
  {
   "cell_type": "code",
   "execution_count": 30,
   "id": "befcb0eb",
   "metadata": {},
   "outputs": [
    {
     "data": {
      "text/plain": [
       "array([0.795, 1.964, 1.045, ..., 1.15 , 1.15 , 1.15 ], dtype=float32)"
      ]
     },
     "execution_count": 30,
     "metadata": {},
     "output_type": "execute_result"
    }
   ],
   "source": [
    "wet_river_df['value'].values"
   ]
  },
  {
   "cell_type": "code",
   "execution_count": 31,
   "id": "6f77ed3a",
   "metadata": {
    "scrolled": true
   },
   "outputs": [
    {
     "data": {
      "text/plain": [
       "<pandas.core.groupby.generic.DataFrameGroupBy object at 0x7f9570b54a30>"
      ]
     },
     "execution_count": 31,
     "metadata": {},
     "output_type": "execute_result"
    }
   ],
   "source": [
    "wet_rain_df.sort_values(by='dateTime').groupby('stationReference')"
   ]
  },
  {
   "cell_type": "code",
   "execution_count": 32,
   "id": "ebdf5ee6",
   "metadata": {},
   "outputs": [
    {
     "data": {
      "text/plain": [
       "0.0"
      ]
     },
     "execution_count": 32,
     "metadata": {},
     "output_type": "execute_result"
    }
   ],
   "source": [
    "wet_rain_df = wet_rain_df.sort_values(by='dateTime')\n",
    "wet_rain_df[wet_rain_df['stationReference']=='E5726']['value'].values.sum()"
   ]
  },
  {
   "cell_type": "code",
   "execution_count": 33,
   "id": "5a9ba823",
   "metadata": {},
   "outputs": [],
   "source": [
    "rain_day = pd.DataFrame(wet_rain_df.groupby('stationReference')['value'].sum()).rename(columns={'value': 'rain_in_day'})"
   ]
  },
  {
   "cell_type": "code",
   "execution_count": 34,
   "id": "09fb6e25",
   "metadata": {
    "scrolled": true
   },
   "outputs": [],
   "source": [
    "# pd.merge(wet_rain_df, rain_day, on=\"stationReference\")   # rainfall stations"
   ]
  },
  {
   "cell_type": "markdown",
   "id": "c8c64b82",
   "metadata": {},
   "source": []
  },
  {
   "cell_type": "markdown",
   "id": "c60a1bd6",
   "metadata": {},
   "source": [
    "## Data for a typical day"
   ]
  },
  {
   "cell_type": "code",
   "execution_count": 35,
   "id": "7c335ebe",
   "metadata": {},
   "outputs": [
    {
     "data": {
      "text/html": [
       "<div>\n",
       "<style scoped>\n",
       "    .dataframe tbody tr th:only-of-type {\n",
       "        vertical-align: middle;\n",
       "    }\n",
       "\n",
       "    .dataframe tbody tr th {\n",
       "        vertical-align: top;\n",
       "    }\n",
       "\n",
       "    .dataframe thead th {\n",
       "        text-align: right;\n",
       "    }\n",
       "</style>\n",
       "<table border=\"1\" class=\"dataframe\">\n",
       "  <thead>\n",
       "    <tr style=\"text-align: right;\">\n",
       "      <th></th>\n",
       "      <th>dateTime</th>\n",
       "      <th>stationReference</th>\n",
       "      <th>parameter</th>\n",
       "      <th>qualifier</th>\n",
       "      <th>unitName</th>\n",
       "      <th>value</th>\n",
       "    </tr>\n",
       "  </thead>\n",
       "  <tbody>\n",
       "    <tr>\n",
       "      <th>0</th>\n",
       "      <td>2021-10-10T00:00:00Z</td>\n",
       "      <td>E5726</td>\n",
       "      <td>rainfall</td>\n",
       "      <td>Tipping Bucket Raingauge</td>\n",
       "      <td>mm</td>\n",
       "      <td>0.000</td>\n",
       "    </tr>\n",
       "    <tr>\n",
       "      <th>1</th>\n",
       "      <td>2021-10-10T00:00:00Z</td>\n",
       "      <td>2206</td>\n",
       "      <td>level</td>\n",
       "      <td>Stage</td>\n",
       "      <td>mASD</td>\n",
       "      <td>0.000</td>\n",
       "    </tr>\n",
       "    <tr>\n",
       "      <th>2</th>\n",
       "      <td>2021-10-10T00:00:00Z</td>\n",
       "      <td>2431TH</td>\n",
       "      <td>level</td>\n",
       "      <td>Stage</td>\n",
       "      <td>mASD</td>\n",
       "      <td>1.358</td>\n",
       "    </tr>\n",
       "    <tr>\n",
       "      <th>3</th>\n",
       "      <td>2021-10-10T00:00:00Z</td>\n",
       "      <td>E24632</td>\n",
       "      <td>rainfall</td>\n",
       "      <td>Tipping Bucket Raingauge</td>\n",
       "      <td>mm</td>\n",
       "      <td>0.000</td>\n",
       "    </tr>\n",
       "    <tr>\n",
       "      <th>4</th>\n",
       "      <td>2021-10-10T00:00:00Z</td>\n",
       "      <td>2107</td>\n",
       "      <td>level</td>\n",
       "      <td>Stage</td>\n",
       "      <td>mASD</td>\n",
       "      <td>0.662</td>\n",
       "    </tr>\n",
       "  </tbody>\n",
       "</table>\n",
       "</div>"
      ],
      "text/plain": [
       "               dateTime stationReference parameter                 qualifier  \\\n",
       "0  2021-10-10T00:00:00Z            E5726  rainfall  Tipping Bucket Raingauge   \n",
       "1  2021-10-10T00:00:00Z             2206     level                     Stage   \n",
       "2  2021-10-10T00:00:00Z           2431TH     level                     Stage   \n",
       "3  2021-10-10T00:00:00Z           E24632  rainfall  Tipping Bucket Raingauge   \n",
       "4  2021-10-10T00:00:00Z             2107     level                     Stage   \n",
       "\n",
       "  unitName  value  \n",
       "0       mm  0.000  \n",
       "1     mASD  0.000  \n",
       "2     mASD  1.358  \n",
       "3       mm  0.000  \n",
       "4     mASD  0.662  "
      ]
     },
     "execution_count": 35,
     "metadata": {},
     "output_type": "execute_result"
    }
   ],
   "source": [
    "# The data for a more typical day\n",
    "\n",
    "df3 = pd.read_csv('./resources/typical_day.csv')\n",
    "df3.head()"
   ]
  },
  {
   "cell_type": "code",
   "execution_count": 36,
   "id": "68a12c6c",
   "metadata": {},
   "outputs": [
    {
     "name": "stdout",
     "output_type": "stream",
     "text": [
      "193127\n",
      "2021-10-10T00:00:00Z    2021-10-10T23:59:00Z\n",
      "units ['mm' 'mASD']\n",
      "1985\n",
      "['Tipping Bucket Raingauge' 'Stage' '2' '1' 'Water' 'Logged' 'Height'\n",
      " 'Crest Tapping' nan]\n"
     ]
    }
   ],
   "source": [
    "print(len(df3))\n",
    "print(df3['dateTime'].min(),'  ', df3['dateTime'].max())   # data for a 24hour period\n",
    "print('units', df3['unitName'].unique())\n",
    "print(len(df3['stationReference'].unique()))\n",
    "print(df3['qualifier'].unique())"
   ]
  },
  {
   "cell_type": "code",
   "execution_count": 37,
   "id": "7e4d79c0",
   "metadata": {},
   "outputs": [
    {
     "name": "stdout",
     "output_type": "stream",
     "text": [
      "96\n"
     ]
    }
   ],
   "source": [
    "print(df3.duplicated().sum())\n",
    "df3.drop_duplicates(inplace=True)"
   ]
  },
  {
   "cell_type": "code",
   "execution_count": 38,
   "id": "9f7c9549",
   "metadata": {},
   "outputs": [
    {
     "data": {
      "text/plain": [
       "dateTime             0\n",
       "stationReference     0\n",
       "parameter            0\n",
       "qualifier           96\n",
       "unitName             0\n",
       "value                1\n",
       "dtype: int64"
      ]
     },
     "execution_count": 38,
     "metadata": {},
     "output_type": "execute_result"
    }
   ],
   "source": [
    "df3.isna().sum()"
   ]
  },
  {
   "cell_type": "code",
   "execution_count": 39,
   "id": "bf55c67d",
   "metadata": {},
   "outputs": [],
   "source": [
    "df3 = df3.fillna(0)"
   ]
  },
  {
   "cell_type": "code",
   "execution_count": 40,
   "id": "76b832e5",
   "metadata": {},
   "outputs": [],
   "source": [
    "# remove unwanted stations (with no lat lon)\n",
    "for ref in remove_stations:\n",
    "    df3 = df3.drop(index = df3[df3['stationReference']== ref].index) \n",
    "df3.reset_index(drop=True, inplace=True)"
   ]
  },
  {
   "cell_type": "code",
   "execution_count": 41,
   "id": "dd332e1a",
   "metadata": {},
   "outputs": [],
   "source": [
    "typical_river_df = df3[df3['parameter']=='level']\n",
    "typical_rain_df = df3[df3['parameter']=='rainfall']"
   ]
  },
  {
   "cell_type": "code",
   "execution_count": 42,
   "id": "669af82c",
   "metadata": {},
   "outputs": [
    {
     "name": "stdout",
     "output_type": "stream",
     "text": [
      "1541\n",
      "96\n",
      "1541\n"
     ]
    }
   ],
   "source": [
    "print(len(df3['dateTime'].unique()))\n",
    "print(len(typical_rain_df['dateTime'].unique()))\n",
    "print(len(typical_river_df['dateTime'].unique()))"
   ]
  },
  {
   "cell_type": "code",
   "execution_count": 43,
   "id": "df1d765d",
   "metadata": {},
   "outputs": [
    {
     "name": "stdout",
     "output_type": "stream",
     "text": [
      "1509\n",
      "96\n",
      "1509\n"
     ]
    }
   ],
   "source": [
    "print(len(df2['dateTime'].unique()))\n",
    "print(len(wet_rain_df['dateTime'].unique()))\n",
    "print(len(wet_river_df['dateTime'].unique()))"
   ]
  },
  {
   "cell_type": "code",
   "execution_count": 44,
   "id": "215b5e2c",
   "metadata": {},
   "outputs": [
    {
     "name": "stdout",
     "output_type": "stream",
     "text": [
      "rainfall.   min: 0.0 max: 14.0\n"
     ]
    }
   ],
   "source": [
    "print('rainfall.   min:', typical_rain_df['value'].min(), 'max:',typical_rain_df['value'].max())"
   ]
  },
  {
   "cell_type": "code",
   "execution_count": 45,
   "id": "3fbc6121",
   "metadata": {},
   "outputs": [
    {
     "name": "stdout",
     "output_type": "stream",
     "text": [
      "river.   min: -77.0 max: 2147484.0\n"
     ]
    },
    {
     "data": {
      "image/png": "[encoded data removed]",
      "text/plain": [
       "<Figure size 432x288 with 1 Axes>"
      ]
     },
     "metadata": {
      "needs_background": "light"
     },
     "output_type": "display_data"
    }
   ],
   "source": [
    "# river\n",
    "print('river.   min:', typical_river_df['value'].min(), 'max:',typical_river_df['value'].max())\n",
    "\n",
    "typical_river_df[['value']].boxplot();"
   ]
  },
  {
   "cell_type": "code",
   "execution_count": 46,
   "id": "1028bb91",
   "metadata": {},
   "outputs": [
    {
     "data": {
      "text/html": [
       "<div>\n",
       "<style scoped>\n",
       "    .dataframe tbody tr th:only-of-type {\n",
       "        vertical-align: middle;\n",
       "    }\n",
       "\n",
       "    .dataframe tbody tr th {\n",
       "        vertical-align: top;\n",
       "    }\n",
       "\n",
       "    .dataframe thead th {\n",
       "        text-align: right;\n",
       "    }\n",
       "</style>\n",
       "<table border=\"1\" class=\"dataframe\">\n",
       "  <thead>\n",
       "    <tr style=\"text-align: right;\">\n",
       "      <th></th>\n",
       "      <th>dateTime</th>\n",
       "      <th>stationReference</th>\n",
       "      <th>parameter</th>\n",
       "      <th>qualifier</th>\n",
       "      <th>unitName</th>\n",
       "      <th>value</th>\n",
       "    </tr>\n",
       "  </thead>\n",
       "  <tbody>\n",
       "    <tr>\n",
       "      <th>78159</th>\n",
       "      <td>2021-10-10T09:44:24Z</td>\n",
       "      <td>0144TH</td>\n",
       "      <td>level</td>\n",
       "      <td>Stage</td>\n",
       "      <td>mASD</td>\n",
       "      <td>2147484.0</td>\n",
       "    </tr>\n",
       "  </tbody>\n",
       "</table>\n",
       "</div>"
      ],
      "text/plain": [
       "                   dateTime stationReference parameter qualifier unitName  \\\n",
       "78159  2021-10-10T09:44:24Z           0144TH     level     Stage     mASD   \n",
       "\n",
       "           value  \n",
       "78159  2147484.0  "
      ]
     },
     "execution_count": 46,
     "metadata": {},
     "output_type": "execute_result"
    }
   ],
   "source": [
    "typical_river_df[typical_river_df['value']==2147484.0]\n",
    " # typical_river_df[typical_river_df['stationReference'] == '0144TH']"
   ]
  },
  {
   "cell_type": "code",
   "execution_count": 47,
   "id": "4b656d25",
   "metadata": {},
   "outputs": [
    {
     "name": "stdout",
     "output_type": "stream",
     "text": [
      "                   dateTime stationReference parameter qualifier unitName  \\\n",
      "78447  2021-10-10T09:45:00Z           0144TH     level     Stage     mASD   \n",
      "\n",
      "       value  \n",
      "78447  0.909  \n",
      "                   dateTime stationReference parameter qualifier unitName  \\\n",
      "81890  2021-10-10T10:00:00Z           0144TH     level     Stage     mASD   \n",
      "\n",
      "       value  \n",
      "81890  0.906  \n"
     ]
    }
   ],
   "source": [
    "a = df3[df3['stationReference'] == '0144TH']\n",
    "print(a[a['dateTime'] =='2021-10-10T09:45:00Z'])\n",
    "print(a[a['dateTime'] =='2021-10-10T10:00:00Z'])"
   ]
  },
  {
   "cell_type": "code",
   "execution_count": 48,
   "id": "cdbdac88",
   "metadata": {},
   "outputs": [],
   "source": [
    "# change value\n",
    "df3.loc[78159 , 'value'] = 0.909"
   ]
  },
  {
   "cell_type": "code",
   "execution_count": 49,
   "id": "64c7fc32",
   "metadata": {},
   "outputs": [],
   "source": [
    "typical_river_df = df3[df3['parameter']=='level']\n",
    "typical_rain_df = df3[df3['parameter']=='rainfall']"
   ]
  },
  {
   "cell_type": "markdown",
   "id": "6ccd6909",
   "metadata": {},
   "source": [
    "## merging but with losing data :\n",
    "## .... wet data"
   ]
  },
  {
   "cell_type": "code",
   "execution_count": 50,
   "id": "d33bb4bc",
   "metadata": {},
   "outputs": [],
   "source": [
    "# merge1 = pd.merge(df1, pd.DataFrame(df2.groupby('stationReference').parameter.unique()), on=\"stationReference\")\n",
    "# merge1"
   ]
  },
  {
   "cell_type": "code",
   "execution_count": 51,
   "id": "462cabf9",
   "metadata": {},
   "outputs": [],
   "source": [
    "df1 = df1.sort_values('stationReference').set_index('stationReference')"
   ]
  },
  {
   "cell_type": "code",
   "execution_count": 52,
   "id": "baed0072",
   "metadata": {},
   "outputs": [
    {
     "data": {
      "text/plain": [
       "5"
      ]
     },
     "execution_count": 52,
     "metadata": {},
     "output_type": "execute_result"
    }
   ],
   "source": [
    "df1.duplicated().sum()   # ??"
   ]
  },
  {
   "cell_type": "code",
   "execution_count": 53,
   "id": "165de1cd",
   "metadata": {},
   "outputs": [
    {
     "name": "stdout",
     "output_type": "stream",
     "text": [
      "1225\n",
      "1233\n",
      "1592\n",
      "1889\n",
      "1922\n"
     ]
    }
   ],
   "source": [
    "for i, num in enumerate(df1.duplicated().values):\n",
    "    if num == True:\n",
    "        print(i)\n",
    "    else:\n",
    "        pass\n",
    "    \n",
    "# df1.iloc[1225,:]"
   ]
  },
  {
   "cell_type": "code",
   "execution_count": 54,
   "id": "b5418667",
   "metadata": {},
   "outputs": [],
   "source": [
    "# rainfall wet day\n",
    "\n",
    "merge1 = pd.merge(wet_rain_df, df1, on=\"stationReference\").rename(columns={'value': 'wet_day'})\n",
    " # should be 85422"
   ]
  },
  {
   "cell_type": "code",
   "execution_count": 55,
   "id": "4c4d3d11",
   "metadata": {
    "scrolled": true
   },
   "outputs": [],
   "source": [
    "# river wet day\n",
    "\n",
    "merge2 = pd.merge(wet_river_df, df1, on=\"stationReference\").rename(columns={'value': 'wet_day'})\n"
   ]
  },
  {
   "cell_type": "code",
   "execution_count": 56,
   "id": "f5d5f9a8",
   "metadata": {
    "scrolled": false
   },
   "outputs": [
    {
     "data": {
      "text/html": [
       "<div>\n",
       "<style scoped>\n",
       "    .dataframe tbody tr th:only-of-type {\n",
       "        vertical-align: middle;\n",
       "    }\n",
       "\n",
       "    .dataframe tbody tr th {\n",
       "        vertical-align: top;\n",
       "    }\n",
       "\n",
       "    .dataframe thead th {\n",
       "        text-align: right;\n",
       "    }\n",
       "</style>\n",
       "<table border=\"1\" class=\"dataframe\">\n",
       "  <thead>\n",
       "    <tr style=\"text-align: right;\">\n",
       "      <th></th>\n",
       "      <th>dateTime</th>\n",
       "      <th>stationReference</th>\n",
       "      <th>parameter</th>\n",
       "      <th>qualifier</th>\n",
       "      <th>unitName</th>\n",
       "      <th>wet_day</th>\n",
       "      <th>stationName</th>\n",
       "      <th>latitude</th>\n",
       "      <th>longitude</th>\n",
       "    </tr>\n",
       "  </thead>\n",
       "  <tbody>\n",
       "    <tr>\n",
       "      <th>0</th>\n",
       "      <td>2021-05-07T00:00:00Z</td>\n",
       "      <td>E5726</td>\n",
       "      <td>rainfall</td>\n",
       "      <td>Tipping Bucket Raingauge</td>\n",
       "      <td>mm</td>\n",
       "      <td>0.0</td>\n",
       "      <td>Rainfall station</td>\n",
       "      <td>52.611622</td>\n",
       "      <td>-0.461792</td>\n",
       "    </tr>\n",
       "    <tr>\n",
       "      <th>1</th>\n",
       "      <td>2021-05-07T01:00:00Z</td>\n",
       "      <td>E5726</td>\n",
       "      <td>rainfall</td>\n",
       "      <td>Tipping Bucket Raingauge</td>\n",
       "      <td>mm</td>\n",
       "      <td>0.0</td>\n",
       "      <td>Rainfall station</td>\n",
       "      <td>52.611622</td>\n",
       "      <td>-0.461792</td>\n",
       "    </tr>\n",
       "    <tr>\n",
       "      <th>2</th>\n",
       "      <td>2021-05-07T02:00:00Z</td>\n",
       "      <td>E5726</td>\n",
       "      <td>rainfall</td>\n",
       "      <td>Tipping Bucket Raingauge</td>\n",
       "      <td>mm</td>\n",
       "      <td>0.0</td>\n",
       "      <td>Rainfall station</td>\n",
       "      <td>52.611622</td>\n",
       "      <td>-0.461792</td>\n",
       "    </tr>\n",
       "    <tr>\n",
       "      <th>3</th>\n",
       "      <td>2021-05-07T03:00:00Z</td>\n",
       "      <td>E5726</td>\n",
       "      <td>rainfall</td>\n",
       "      <td>Tipping Bucket Raingauge</td>\n",
       "      <td>mm</td>\n",
       "      <td>0.0</td>\n",
       "      <td>Rainfall station</td>\n",
       "      <td>52.611622</td>\n",
       "      <td>-0.461792</td>\n",
       "    </tr>\n",
       "    <tr>\n",
       "      <th>4</th>\n",
       "      <td>2021-05-07T04:00:00Z</td>\n",
       "      <td>E5726</td>\n",
       "      <td>rainfall</td>\n",
       "      <td>Tipping Bucket Raingauge</td>\n",
       "      <td>mm</td>\n",
       "      <td>0.0</td>\n",
       "      <td>Rainfall station</td>\n",
       "      <td>52.611622</td>\n",
       "      <td>-0.461792</td>\n",
       "    </tr>\n",
       "    <tr>\n",
       "      <th>...</th>\n",
       "      <td>...</td>\n",
       "      <td>...</td>\n",
       "      <td>...</td>\n",
       "      <td>...</td>\n",
       "      <td>...</td>\n",
       "      <td>...</td>\n",
       "      <td>...</td>\n",
       "      <td>...</td>\n",
       "      <td>...</td>\n",
       "    </tr>\n",
       "    <tr>\n",
       "      <th>187721</th>\n",
       "      <td>2021-05-07T22:45:00Z</td>\n",
       "      <td>E13590</td>\n",
       "      <td>rainfall</td>\n",
       "      <td>Tipping Bucket Raingauge</td>\n",
       "      <td>mm</td>\n",
       "      <td>0.0</td>\n",
       "      <td>Rainfall station</td>\n",
       "      <td>50.953747</td>\n",
       "      <td>-1.533691</td>\n",
       "    </tr>\n",
       "    <tr>\n",
       "      <th>187722</th>\n",
       "      <td>2021-05-07T23:00:00Z</td>\n",
       "      <td>E13590</td>\n",
       "      <td>rainfall</td>\n",
       "      <td>Tipping Bucket Raingauge</td>\n",
       "      <td>mm</td>\n",
       "      <td>0.0</td>\n",
       "      <td>Rainfall station</td>\n",
       "      <td>50.953747</td>\n",
       "      <td>-1.533691</td>\n",
       "    </tr>\n",
       "    <tr>\n",
       "      <th>187723</th>\n",
       "      <td>2021-05-07T23:15:00Z</td>\n",
       "      <td>E13590</td>\n",
       "      <td>rainfall</td>\n",
       "      <td>Tipping Bucket Raingauge</td>\n",
       "      <td>mm</td>\n",
       "      <td>0.0</td>\n",
       "      <td>Rainfall station</td>\n",
       "      <td>50.953747</td>\n",
       "      <td>-1.533691</td>\n",
       "    </tr>\n",
       "    <tr>\n",
       "      <th>187724</th>\n",
       "      <td>2021-05-07T23:30:00Z</td>\n",
       "      <td>E13590</td>\n",
       "      <td>rainfall</td>\n",
       "      <td>Tipping Bucket Raingauge</td>\n",
       "      <td>mm</td>\n",
       "      <td>0.0</td>\n",
       "      <td>Rainfall station</td>\n",
       "      <td>50.953747</td>\n",
       "      <td>-1.533691</td>\n",
       "    </tr>\n",
       "    <tr>\n",
       "      <th>187725</th>\n",
       "      <td>2021-05-07T23:45:00Z</td>\n",
       "      <td>E13590</td>\n",
       "      <td>rainfall</td>\n",
       "      <td>Tipping Bucket Raingauge</td>\n",
       "      <td>mm</td>\n",
       "      <td>0.0</td>\n",
       "      <td>Rainfall station</td>\n",
       "      <td>50.953747</td>\n",
       "      <td>-1.533691</td>\n",
       "    </tr>\n",
       "  </tbody>\n",
       "</table>\n",
       "<p>187726 rows × 9 columns</p>\n",
       "</div>"
      ],
      "text/plain": [
       "                    dateTime stationReference parameter  \\\n",
       "0       2021-05-07T00:00:00Z            E5726  rainfall   \n",
       "1       2021-05-07T01:00:00Z            E5726  rainfall   \n",
       "2       2021-05-07T02:00:00Z            E5726  rainfall   \n",
       "3       2021-05-07T03:00:00Z            E5726  rainfall   \n",
       "4       2021-05-07T04:00:00Z            E5726  rainfall   \n",
       "...                      ...              ...       ...   \n",
       "187721  2021-05-07T22:45:00Z           E13590  rainfall   \n",
       "187722  2021-05-07T23:00:00Z           E13590  rainfall   \n",
       "187723  2021-05-07T23:15:00Z           E13590  rainfall   \n",
       "187724  2021-05-07T23:30:00Z           E13590  rainfall   \n",
       "187725  2021-05-07T23:45:00Z           E13590  rainfall   \n",
       "\n",
       "                       qualifier unitName  wet_day       stationName  \\\n",
       "0       Tipping Bucket Raingauge       mm      0.0  Rainfall station   \n",
       "1       Tipping Bucket Raingauge       mm      0.0  Rainfall station   \n",
       "2       Tipping Bucket Raingauge       mm      0.0  Rainfall station   \n",
       "3       Tipping Bucket Raingauge       mm      0.0  Rainfall station   \n",
       "4       Tipping Bucket Raingauge       mm      0.0  Rainfall station   \n",
       "...                          ...      ...      ...               ...   \n",
       "187721  Tipping Bucket Raingauge       mm      0.0  Rainfall station   \n",
       "187722  Tipping Bucket Raingauge       mm      0.0  Rainfall station   \n",
       "187723  Tipping Bucket Raingauge       mm      0.0  Rainfall station   \n",
       "187724  Tipping Bucket Raingauge       mm      0.0  Rainfall station   \n",
       "187725  Tipping Bucket Raingauge       mm      0.0  Rainfall station   \n",
       "\n",
       "         latitude  longitude  \n",
       "0       52.611622  -0.461792  \n",
       "1       52.611622  -0.461792  \n",
       "2       52.611622  -0.461792  \n",
       "3       52.611622  -0.461792  \n",
       "4       52.611622  -0.461792  \n",
       "...           ...        ...  \n",
       "187721  50.953747  -1.533691  \n",
       "187722  50.953747  -1.533691  \n",
       "187723  50.953747  -1.533691  \n",
       "187724  50.953747  -1.533691  \n",
       "187725  50.953747  -1.533691  \n",
       "\n",
       "[187726 rows x 9 columns]"
      ]
     },
     "execution_count": 56,
     "metadata": {},
     "output_type": "execute_result"
    }
   ],
   "source": [
    "# wet day data     2021-05-07 river+rainfall\n",
    "# wet_day = pd.concat([merge1, merge2]).reset_index(drop=True)\n",
    "# wet_day\n",
    "\n",
    "wet_day = pd.merge(df2, df1, on=\"stationReference\").rename(columns={'value': 'wet_day'})\n",
    "wet_day"
   ]
  },
  {
   "cell_type": "markdown",
   "id": "4ef2be7d",
   "metadata": {},
   "source": [
    "## ... typical data"
   ]
  },
  {
   "cell_type": "code",
   "execution_count": 57,
   "id": "8df74bea",
   "metadata": {},
   "outputs": [],
   "source": [
    "# rainfall typical day\n",
    "\n",
    "merge3 = pd.merge(typical_rain_df, df1, on=\"stationReference\").rename(columns={'value': 'typical_day'})"
   ]
  },
  {
   "cell_type": "code",
   "execution_count": 58,
   "id": "3ef236f9",
   "metadata": {},
   "outputs": [],
   "source": [
    "# river typical day\n",
    "\n",
    "merge4 = pd.merge(typical_river_df, df1, on=\"stationReference\").rename(columns={'value': 'typical_day'})"
   ]
  },
  {
   "cell_type": "code",
   "execution_count": 59,
   "id": "03901c51",
   "metadata": {
    "scrolled": false
   },
   "outputs": [
    {
     "data": {
      "text/html": [
       "<div>\n",
       "<style scoped>\n",
       "    .dataframe tbody tr th:only-of-type {\n",
       "        vertical-align: middle;\n",
       "    }\n",
       "\n",
       "    .dataframe tbody tr th {\n",
       "        vertical-align: top;\n",
       "    }\n",
       "\n",
       "    .dataframe thead th {\n",
       "        text-align: right;\n",
       "    }\n",
       "</style>\n",
       "<table border=\"1\" class=\"dataframe\">\n",
       "  <thead>\n",
       "    <tr style=\"text-align: right;\">\n",
       "      <th></th>\n",
       "      <th>dateTime</th>\n",
       "      <th>stationReference</th>\n",
       "      <th>parameter</th>\n",
       "      <th>qualifier</th>\n",
       "      <th>unitName</th>\n",
       "      <th>typical_day</th>\n",
       "      <th>stationName</th>\n",
       "      <th>latitude</th>\n",
       "      <th>longitude</th>\n",
       "    </tr>\n",
       "  </thead>\n",
       "  <tbody>\n",
       "    <tr>\n",
       "      <th>0</th>\n",
       "      <td>2021-10-10T00:00:00Z</td>\n",
       "      <td>E5726</td>\n",
       "      <td>rainfall</td>\n",
       "      <td>Tipping Bucket Raingauge</td>\n",
       "      <td>mm</td>\n",
       "      <td>0.0</td>\n",
       "      <td>Rainfall station</td>\n",
       "      <td>52.611622</td>\n",
       "      <td>-0.461792</td>\n",
       "    </tr>\n",
       "    <tr>\n",
       "      <th>1</th>\n",
       "      <td>2021-10-10T01:00:00Z</td>\n",
       "      <td>E5726</td>\n",
       "      <td>rainfall</td>\n",
       "      <td>Tipping Bucket Raingauge</td>\n",
       "      <td>mm</td>\n",
       "      <td>0.0</td>\n",
       "      <td>Rainfall station</td>\n",
       "      <td>52.611622</td>\n",
       "      <td>-0.461792</td>\n",
       "    </tr>\n",
       "    <tr>\n",
       "      <th>2</th>\n",
       "      <td>2021-10-10T02:00:00Z</td>\n",
       "      <td>E5726</td>\n",
       "      <td>rainfall</td>\n",
       "      <td>Tipping Bucket Raingauge</td>\n",
       "      <td>mm</td>\n",
       "      <td>0.0</td>\n",
       "      <td>Rainfall station</td>\n",
       "      <td>52.611622</td>\n",
       "      <td>-0.461792</td>\n",
       "    </tr>\n",
       "    <tr>\n",
       "      <th>3</th>\n",
       "      <td>2021-10-10T03:00:00Z</td>\n",
       "      <td>E5726</td>\n",
       "      <td>rainfall</td>\n",
       "      <td>Tipping Bucket Raingauge</td>\n",
       "      <td>mm</td>\n",
       "      <td>0.0</td>\n",
       "      <td>Rainfall station</td>\n",
       "      <td>52.611622</td>\n",
       "      <td>-0.461792</td>\n",
       "    </tr>\n",
       "    <tr>\n",
       "      <th>4</th>\n",
       "      <td>2021-10-10T04:00:00Z</td>\n",
       "      <td>E5726</td>\n",
       "      <td>rainfall</td>\n",
       "      <td>Tipping Bucket Raingauge</td>\n",
       "      <td>mm</td>\n",
       "      <td>0.0</td>\n",
       "      <td>Rainfall station</td>\n",
       "      <td>52.611622</td>\n",
       "      <td>-0.461792</td>\n",
       "    </tr>\n",
       "    <tr>\n",
       "      <th>...</th>\n",
       "      <td>...</td>\n",
       "      <td>...</td>\n",
       "      <td>...</td>\n",
       "      <td>...</td>\n",
       "      <td>...</td>\n",
       "      <td>...</td>\n",
       "      <td>...</td>\n",
       "      <td>...</td>\n",
       "      <td>...</td>\n",
       "    </tr>\n",
       "    <tr>\n",
       "      <th>192354</th>\n",
       "      <td>2021-10-10T21:15:00Z</td>\n",
       "      <td>598928</td>\n",
       "      <td>rainfall</td>\n",
       "      <td>Tipping Bucket Raingauge</td>\n",
       "      <td>mm</td>\n",
       "      <td>0.0</td>\n",
       "      <td>Rainfall station</td>\n",
       "      <td>54.524262</td>\n",
       "      <td>-2.505948</td>\n",
       "    </tr>\n",
       "    <tr>\n",
       "      <th>192355</th>\n",
       "      <td>2021-10-10T21:30:00Z</td>\n",
       "      <td>598928</td>\n",
       "      <td>rainfall</td>\n",
       "      <td>Tipping Bucket Raingauge</td>\n",
       "      <td>mm</td>\n",
       "      <td>0.0</td>\n",
       "      <td>Rainfall station</td>\n",
       "      <td>54.524262</td>\n",
       "      <td>-2.505948</td>\n",
       "    </tr>\n",
       "    <tr>\n",
       "      <th>192356</th>\n",
       "      <td>2021-10-10T21:45:00Z</td>\n",
       "      <td>598928</td>\n",
       "      <td>rainfall</td>\n",
       "      <td>Tipping Bucket Raingauge</td>\n",
       "      <td>mm</td>\n",
       "      <td>0.0</td>\n",
       "      <td>Rainfall station</td>\n",
       "      <td>54.524262</td>\n",
       "      <td>-2.505948</td>\n",
       "    </tr>\n",
       "    <tr>\n",
       "      <th>192357</th>\n",
       "      <td>2021-10-10T22:00:00Z</td>\n",
       "      <td>598928</td>\n",
       "      <td>rainfall</td>\n",
       "      <td>Tipping Bucket Raingauge</td>\n",
       "      <td>mm</td>\n",
       "      <td>0.0</td>\n",
       "      <td>Rainfall station</td>\n",
       "      <td>54.524262</td>\n",
       "      <td>-2.505948</td>\n",
       "    </tr>\n",
       "    <tr>\n",
       "      <th>192358</th>\n",
       "      <td>2021-10-10T22:15:00Z</td>\n",
       "      <td>598928</td>\n",
       "      <td>rainfall</td>\n",
       "      <td>Tipping Bucket Raingauge</td>\n",
       "      <td>mm</td>\n",
       "      <td>0.0</td>\n",
       "      <td>Rainfall station</td>\n",
       "      <td>54.524262</td>\n",
       "      <td>-2.505948</td>\n",
       "    </tr>\n",
       "  </tbody>\n",
       "</table>\n",
       "<p>192359 rows × 9 columns</p>\n",
       "</div>"
      ],
      "text/plain": [
       "                    dateTime stationReference parameter  \\\n",
       "0       2021-10-10T00:00:00Z            E5726  rainfall   \n",
       "1       2021-10-10T01:00:00Z            E5726  rainfall   \n",
       "2       2021-10-10T02:00:00Z            E5726  rainfall   \n",
       "3       2021-10-10T03:00:00Z            E5726  rainfall   \n",
       "4       2021-10-10T04:00:00Z            E5726  rainfall   \n",
       "...                      ...              ...       ...   \n",
       "192354  2021-10-10T21:15:00Z           598928  rainfall   \n",
       "192355  2021-10-10T21:30:00Z           598928  rainfall   \n",
       "192356  2021-10-10T21:45:00Z           598928  rainfall   \n",
       "192357  2021-10-10T22:00:00Z           598928  rainfall   \n",
       "192358  2021-10-10T22:15:00Z           598928  rainfall   \n",
       "\n",
       "                       qualifier unitName  typical_day       stationName  \\\n",
       "0       Tipping Bucket Raingauge       mm          0.0  Rainfall station   \n",
       "1       Tipping Bucket Raingauge       mm          0.0  Rainfall station   \n",
       "2       Tipping Bucket Raingauge       mm          0.0  Rainfall station   \n",
       "3       Tipping Bucket Raingauge       mm          0.0  Rainfall station   \n",
       "4       Tipping Bucket Raingauge       mm          0.0  Rainfall station   \n",
       "...                          ...      ...          ...               ...   \n",
       "192354  Tipping Bucket Raingauge       mm          0.0  Rainfall station   \n",
       "192355  Tipping Bucket Raingauge       mm          0.0  Rainfall station   \n",
       "192356  Tipping Bucket Raingauge       mm          0.0  Rainfall station   \n",
       "192357  Tipping Bucket Raingauge       mm          0.0  Rainfall station   \n",
       "192358  Tipping Bucket Raingauge       mm          0.0  Rainfall station   \n",
       "\n",
       "         latitude  longitude  \n",
       "0       52.611622  -0.461792  \n",
       "1       52.611622  -0.461792  \n",
       "2       52.611622  -0.461792  \n",
       "3       52.611622  -0.461792  \n",
       "4       52.611622  -0.461792  \n",
       "...           ...        ...  \n",
       "192354  54.524262  -2.505948  \n",
       "192355  54.524262  -2.505948  \n",
       "192356  54.524262  -2.505948  \n",
       "192357  54.524262  -2.505948  \n",
       "192358  54.524262  -2.505948  \n",
       "\n",
       "[192359 rows x 9 columns]"
      ]
     },
     "execution_count": 59,
     "metadata": {},
     "output_type": "execute_result"
    }
   ],
   "source": [
    "# typical day data     2021-05-07 river+rainfall\n",
    "#typical_day = pd.concat([merge3, merge4]).reset_index(drop=True)\n",
    "\n",
    "typical_day = pd.merge(df3, df1, on=\"stationReference\").rename(columns={'value': 'typical_day'})\n",
    "typical_day"
   ]
  },
  {
   "cell_type": "code",
   "execution_count": 60,
   "id": "580b0c9d",
   "metadata": {},
   "outputs": [],
   "source": [
    "# wet_day.to_csv()\n",
    "\n",
    "# typical_day.to_csv()"
   ]
  },
  {
   "cell_type": "markdown",
   "id": "23b290b9",
   "metadata": {},
   "source": [
    "## Adding a class"
   ]
  },
  {
   "cell_type": "markdown",
   "id": "6cd10d68",
   "metadata": {},
   "source": [
    "#### rainfall classifier\n",
    "\n",
    "dry: 0 \n",
    "\n",
    "less than 2 mm per hour     slight: 1\n",
    "\n",
    "(0.5 per 15min)\n",
    "\n",
    "2mm to 4 mm per hour        moderate: 2\n",
    "\n",
    "0.5 to 1\n",
    "\n",
    "4mm to 50 mm per hour       heavy: 3\n",
    "\n",
    "1 to 12.5\n",
    "\n",
    "more than 50mm per hour     violent: 4\n",
    "\n",
    "12.5"
   ]
  },
  {
   "cell_type": "code",
   "execution_count": 61,
   "id": "21cf1ab1",
   "metadata": {},
   "outputs": [
    {
     "name": "stdout",
     "output_type": "stream",
     "text": [
      "[0. 0. 0. ... 0. 0. 0.]\n",
      "[0. 0. 0. ... 0. 0. 0.]\n"
     ]
    }
   ],
   "source": [
    "merge3 = merge3.sort_values(by='dateTime').set_index('dateTime')\n",
    "a = merge3['typical_day'].values\n",
    "\n",
    "print(a)\n",
    "b = np.zeros_like(a)\n",
    "b = np.where(np.logical_and(a > 0, a < 0.5), 1, b)\n",
    "b = np.where(np.logical_and(a >= 0.5, a < 1), 2, b)\n",
    "b = np.where(np.logical_and(a >= 1, a < 12.5), 3, b)\n",
    "b = np.where(a >= 12.5, 4, b)\n",
    "print(b)"
   ]
  },
  {
   "cell_type": "code",
   "execution_count": 62,
   "id": "de5ae422",
   "metadata": {
    "scrolled": true
   },
   "outputs": [],
   "source": [
    "merge3['aclass'] = b"
   ]
  },
  {
   "cell_type": "code",
   "execution_count": 63,
   "id": "0a73e4d7",
   "metadata": {
    "scrolled": true
   },
   "outputs": [],
   "source": [
    "# hour = merge3.sort_values(by='dateTime').set_index('dateTime').loc['2021-10-10T00:00:00Z':'2021-10-10T00:45:00Z']\n",
    "# hour\n",
    "#hour.groupby('stationReference')['typical_day'].sum()"
   ]
  },
  {
   "cell_type": "code",
   "execution_count": 64,
   "id": "ca93ac3b",
   "metadata": {},
   "outputs": [],
   "source": [
    "# times = ['2021-10-10T00:00:00Z', '2021-10-10T00:45:00Z', '2021-10-10T01:00:00Z', '2021-10-10T01:45:00Z']\n",
    "# hour = merge3.sort_values(by='dateTime').set_index('dateTime').loc['2021-10-10T00:00:00Z':'2021-10-10T00:45:00Z']\n",
    "# hour.groupby('stationReference')['typical_day'].sum()\n",
    "\n",
    "# def river_class(value):\n",
    "#     if value < 0 :\n",
    "#         return 1\n",
    "#     else:\n",
    "#         return 2\n",
    "# river_class(merge4['typical_day'])\n",
    "# merge4.assign(aclass =river_class(merge4['typical_day']))"
   ]
  },
  {
   "cell_type": "code",
   "execution_count": 65,
   "id": "08d283be",
   "metadata": {},
   "outputs": [],
   "source": [
    "merge4 = merge4.sort_values(by='dateTime').set_index('dateTime')\n",
    "a = merge4['typical_day'].values"
   ]
  },
  {
   "cell_type": "code",
   "execution_count": 66,
   "id": "e2a38495",
   "metadata": {},
   "outputs": [
    {
     "name": "stdout",
     "output_type": "stream",
     "text": [
      "0.688 0.134\n",
      "0.287\n"
     ]
    }
   ],
   "source": [
    "q3, q1 = np.percentile(a, [75 ,25])\n",
    "print(q3, q1)\n",
    "print(np.median(a))"
   ]
  },
  {
   "cell_type": "code",
   "execution_count": 67,
   "id": "02fbeffb",
   "metadata": {},
   "outputs": [
    {
     "name": "stdout",
     "output_type": "stream",
     "text": [
      "[0.    0.439 0.299 ... 0.323 1.195 0.323]\n",
      "[0. 2. 2. ... 2. 3. 2.]\n"
     ]
    }
   ],
   "source": [
    "# print(a)\n",
    "# b = np.zeros_like(a)\n",
    "# b = np.where(a < 0.13, 'low', b)\n",
    "# b = np.where(np.logical_and(a >= 0.13, a < 0.29), 'normal', b)\n",
    "# b = np.where(np.logical_and(a >= 0.29, a < 0.69), 'normal_high', b)\n",
    "# b = np.where(np.logical_and(a >= 0.69, a < 1.5), 'high', b)\n",
    "# b = np.where(a >= 1.5, 'v_high', b)\n",
    "# print(b)\n",
    "\n",
    "print(a)\n",
    "b = np.zeros_like(a)\n",
    "b = np.where(a < 0.13, 0, b)\n",
    "b = np.where(np.logical_and(a >= 0.13, a < 0.29), 1, b)\n",
    "b = np.where(np.logical_and(a >= 0.29, a < 0.69), 2, b)\n",
    "b = np.where(np.logical_and(a >= 0.69, a < 1.5), 3, b)\n",
    "b = np.where(a >= 1.5, 4, b)\n",
    "print(b)"
   ]
  },
  {
   "cell_type": "code",
   "execution_count": 68,
   "id": "7f9dc7ea",
   "metadata": {},
   "outputs": [],
   "source": [
    "merge4['aclass'] = b"
   ]
  },
  {
   "cell_type": "code",
   "execution_count": 69,
   "id": "8d311a23",
   "metadata": {},
   "outputs": [
    {
     "data": {
      "text/html": [
       "<div>\n",
       "<style scoped>\n",
       "    .dataframe tbody tr th:only-of-type {\n",
       "        vertical-align: middle;\n",
       "    }\n",
       "\n",
       "    .dataframe tbody tr th {\n",
       "        vertical-align: top;\n",
       "    }\n",
       "\n",
       "    .dataframe thead th {\n",
       "        text-align: right;\n",
       "    }\n",
       "</style>\n",
       "<table border=\"1\" class=\"dataframe\">\n",
       "  <thead>\n",
       "    <tr style=\"text-align: right;\">\n",
       "      <th></th>\n",
       "      <th>stationReference</th>\n",
       "      <th>parameter</th>\n",
       "      <th>qualifier</th>\n",
       "      <th>unitName</th>\n",
       "      <th>typical_day</th>\n",
       "      <th>stationName</th>\n",
       "      <th>latitude</th>\n",
       "      <th>longitude</th>\n",
       "      <th>aclass</th>\n",
       "    </tr>\n",
       "  </thead>\n",
       "  <tbody>\n",
       "    <tr>\n",
       "      <th>0</th>\n",
       "      <td>E5726</td>\n",
       "      <td>rainfall</td>\n",
       "      <td>Tipping Bucket Raingauge</td>\n",
       "      <td>mm</td>\n",
       "      <td>0.000</td>\n",
       "      <td>Rainfall station</td>\n",
       "      <td>52.611622</td>\n",
       "      <td>-0.461792</td>\n",
       "      <td>0.0</td>\n",
       "    </tr>\n",
       "    <tr>\n",
       "      <th>1</th>\n",
       "      <td>1819</td>\n",
       "      <td>rainfall</td>\n",
       "      <td>Tipping Bucket Raingauge</td>\n",
       "      <td>mm</td>\n",
       "      <td>0.000</td>\n",
       "      <td>Rainfall station</td>\n",
       "      <td>52.178577</td>\n",
       "      <td>-2.411624</td>\n",
       "      <td>0.0</td>\n",
       "    </tr>\n",
       "    <tr>\n",
       "      <th>2</th>\n",
       "      <td>286392TP</td>\n",
       "      <td>rainfall</td>\n",
       "      <td>Tipping Bucket Raingauge</td>\n",
       "      <td>mm</td>\n",
       "      <td>0.000</td>\n",
       "      <td>Rainfall station</td>\n",
       "      <td>51.400709</td>\n",
       "      <td>-0.284238</td>\n",
       "      <td>0.0</td>\n",
       "    </tr>\n",
       "    <tr>\n",
       "      <th>3</th>\n",
       "      <td>1121</td>\n",
       "      <td>rainfall</td>\n",
       "      <td>Tipping Bucket Raingauge</td>\n",
       "      <td>mm</td>\n",
       "      <td>0.000</td>\n",
       "      <td>Rainfall station</td>\n",
       "      <td>52.718322</td>\n",
       "      <td>-2.717219</td>\n",
       "      <td>0.0</td>\n",
       "    </tr>\n",
       "    <tr>\n",
       "      <th>4</th>\n",
       "      <td>380002TP</td>\n",
       "      <td>rainfall</td>\n",
       "      <td>Tipping Bucket Raingauge</td>\n",
       "      <td>mm</td>\n",
       "      <td>0.000</td>\n",
       "      <td>Rainfall station</td>\n",
       "      <td>51.571638</td>\n",
       "      <td>-0.289354</td>\n",
       "      <td>0.0</td>\n",
       "    </tr>\n",
       "    <tr>\n",
       "      <th>...</th>\n",
       "      <td>...</td>\n",
       "      <td>...</td>\n",
       "      <td>...</td>\n",
       "      <td>...</td>\n",
       "      <td>...</td>\n",
       "      <td>...</td>\n",
       "      <td>...</td>\n",
       "      <td>...</td>\n",
       "      <td>...</td>\n",
       "    </tr>\n",
       "    <tr>\n",
       "      <th>192354</th>\n",
       "      <td>E8293</td>\n",
       "      <td>level</td>\n",
       "      <td>Stage</td>\n",
       "      <td>mASD</td>\n",
       "      <td>0.323</td>\n",
       "      <td>Isfield weir</td>\n",
       "      <td>50.951995</td>\n",
       "      <td>0.074349</td>\n",
       "      <td>2.0</td>\n",
       "    </tr>\n",
       "    <tr>\n",
       "      <th>192355</th>\n",
       "      <td>E1550</td>\n",
       "      <td>level</td>\n",
       "      <td>Stage</td>\n",
       "      <td>mASD</td>\n",
       "      <td>1.195</td>\n",
       "      <td>Town Lock</td>\n",
       "      <td>51.194615</td>\n",
       "      <td>0.278452</td>\n",
       "      <td>3.0</td>\n",
       "    </tr>\n",
       "    <tr>\n",
       "      <th>192356</th>\n",
       "      <td>E8293</td>\n",
       "      <td>level</td>\n",
       "      <td>Stage</td>\n",
       "      <td>mASD</td>\n",
       "      <td>0.323</td>\n",
       "      <td>Isfield weir</td>\n",
       "      <td>50.951995</td>\n",
       "      <td>0.074349</td>\n",
       "      <td>2.0</td>\n",
       "    </tr>\n",
       "    <tr>\n",
       "      <th>192357</th>\n",
       "      <td>E1550</td>\n",
       "      <td>level</td>\n",
       "      <td>Stage</td>\n",
       "      <td>mASD</td>\n",
       "      <td>1.195</td>\n",
       "      <td>Town Lock</td>\n",
       "      <td>51.194615</td>\n",
       "      <td>0.278452</td>\n",
       "      <td>3.0</td>\n",
       "    </tr>\n",
       "    <tr>\n",
       "      <th>192358</th>\n",
       "      <td>E8293</td>\n",
       "      <td>level</td>\n",
       "      <td>Stage</td>\n",
       "      <td>mASD</td>\n",
       "      <td>0.323</td>\n",
       "      <td>Isfield weir</td>\n",
       "      <td>50.951995</td>\n",
       "      <td>0.074349</td>\n",
       "      <td>2.0</td>\n",
       "    </tr>\n",
       "  </tbody>\n",
       "</table>\n",
       "<p>192359 rows × 9 columns</p>\n",
       "</div>"
      ],
      "text/plain": [
       "       stationReference parameter                 qualifier unitName  \\\n",
       "0                 E5726  rainfall  Tipping Bucket Raingauge       mm   \n",
       "1                  1819  rainfall  Tipping Bucket Raingauge       mm   \n",
       "2              286392TP  rainfall  Tipping Bucket Raingauge       mm   \n",
       "3                  1121  rainfall  Tipping Bucket Raingauge       mm   \n",
       "4              380002TP  rainfall  Tipping Bucket Raingauge       mm   \n",
       "...                 ...       ...                       ...      ...   \n",
       "192354            E8293     level                     Stage     mASD   \n",
       "192355            E1550     level                     Stage     mASD   \n",
       "192356            E8293     level                     Stage     mASD   \n",
       "192357            E1550     level                     Stage     mASD   \n",
       "192358            E8293     level                     Stage     mASD   \n",
       "\n",
       "        typical_day       stationName   latitude  longitude  aclass  \n",
       "0             0.000  Rainfall station  52.611622  -0.461792     0.0  \n",
       "1             0.000  Rainfall station  52.178577  -2.411624     0.0  \n",
       "2             0.000  Rainfall station  51.400709  -0.284238     0.0  \n",
       "3             0.000  Rainfall station  52.718322  -2.717219     0.0  \n",
       "4             0.000  Rainfall station  51.571638  -0.289354     0.0  \n",
       "...             ...               ...        ...        ...     ...  \n",
       "192354        0.323      Isfield weir  50.951995   0.074349     2.0  \n",
       "192355        1.195         Town Lock  51.194615   0.278452     3.0  \n",
       "192356        0.323      Isfield weir  50.951995   0.074349     2.0  \n",
       "192357        1.195         Town Lock  51.194615   0.278452     3.0  \n",
       "192358        0.323      Isfield weir  50.951995   0.074349     2.0  \n",
       "\n",
       "[192359 rows x 9 columns]"
      ]
     },
     "execution_count": 69,
     "metadata": {},
     "output_type": "execute_result"
    }
   ],
   "source": [
    "typical_day = pd.concat([merge3, merge4]).reset_index(drop=True)\n",
    "typical_day"
   ]
  },
  {
   "cell_type": "code",
   "execution_count": 70,
   "id": "a50a299a",
   "metadata": {},
   "outputs": [
    {
     "name": "stdout",
     "output_type": "stream",
     "text": [
      "[0. 0. 0. ... 0. 0. 0.]\n",
      "[0. 0. 0. ... 0. 0. 0.]\n"
     ]
    }
   ],
   "source": [
    "# WET DAY\n",
    "merge1 = merge1.sort_values(by='dateTime').set_index('dateTime')\n",
    "a = merge1['wet_day'].values\n",
    "\n",
    "print(a)\n",
    "b = np.zeros_like(a)\n",
    "b = np.where(np.logical_and(a > 0, a < 0.5), 1, b)\n",
    "b = np.where(np.logical_and(a >= 0.5, a < 1), 2, b)\n",
    "b = np.where(np.logical_and(a >= 1, a < 12.5), 3, b)\n",
    "b = np.where(a >= 12.5, 4, b)\n",
    "print(b)\n",
    "\n",
    "merge1['aclass'] = b"
   ]
  },
  {
   "cell_type": "code",
   "execution_count": 71,
   "id": "08d1c044",
   "metadata": {},
   "outputs": [
    {
     "name": "stdout",
     "output_type": "stream",
     "text": [
      "[0.795 0.609 2.305 ... 1.15  1.15  1.15 ]\n",
      "[3. 2. 4. ... 3. 3. 3.]\n"
     ]
    }
   ],
   "source": [
    "merge2 = merge2.sort_values(by='dateTime').set_index('dateTime')\n",
    "a = merge2['wet_day'].values\n",
    "\n",
    "print(a)\n",
    "b = np.zeros_like(a)\n",
    "b = np.where(a < 0.13, 0, b)\n",
    "b = np.where(np.logical_and(a >= 0.13, a < 0.29), 1, b)\n",
    "b = np.where(np.logical_and(a >= 0.29, a < 0.69), 2, b)\n",
    "b = np.where(np.logical_and(a >= 0.69, a < 1.5), 3, b)\n",
    "b = np.where(a >= 1.5, 4, b)\n",
    "print(b)\n",
    "\n",
    "merge2['aclass'] = b"
   ]
  },
  {
   "cell_type": "code",
   "execution_count": 72,
   "id": "143acca0",
   "metadata": {
    "scrolled": true
   },
   "outputs": [
    {
     "data": {
      "text/html": [
       "<div>\n",
       "<style scoped>\n",
       "    .dataframe tbody tr th:only-of-type {\n",
       "        vertical-align: middle;\n",
       "    }\n",
       "\n",
       "    .dataframe tbody tr th {\n",
       "        vertical-align: top;\n",
       "    }\n",
       "\n",
       "    .dataframe thead th {\n",
       "        text-align: right;\n",
       "    }\n",
       "</style>\n",
       "<table border=\"1\" class=\"dataframe\">\n",
       "  <thead>\n",
       "    <tr style=\"text-align: right;\">\n",
       "      <th></th>\n",
       "      <th>stationReference</th>\n",
       "      <th>parameter</th>\n",
       "      <th>qualifier</th>\n",
       "      <th>unitName</th>\n",
       "      <th>wet_day</th>\n",
       "      <th>stationName</th>\n",
       "      <th>latitude</th>\n",
       "      <th>longitude</th>\n",
       "      <th>aclass</th>\n",
       "    </tr>\n",
       "  </thead>\n",
       "  <tbody>\n",
       "    <tr>\n",
       "      <th>0</th>\n",
       "      <td>E5726</td>\n",
       "      <td>rainfall</td>\n",
       "      <td>Tipping Bucket Raingauge</td>\n",
       "      <td>mm</td>\n",
       "      <td>0.000</td>\n",
       "      <td>Rainfall station</td>\n",
       "      <td>52.611622</td>\n",
       "      <td>-0.461792</td>\n",
       "      <td>0.0</td>\n",
       "    </tr>\n",
       "    <tr>\n",
       "      <th>1</th>\n",
       "      <td>1155</td>\n",
       "      <td>rainfall</td>\n",
       "      <td>Tipping Bucket Raingauge</td>\n",
       "      <td>mm</td>\n",
       "      <td>0.000</td>\n",
       "      <td>Rainfall station</td>\n",
       "      <td>52.417004</td>\n",
       "      <td>-1.125840</td>\n",
       "      <td>0.0</td>\n",
       "    </tr>\n",
       "    <tr>\n",
       "      <th>2</th>\n",
       "      <td>022994</td>\n",
       "      <td>rainfall</td>\n",
       "      <td>Tipping Bucket Raingauge</td>\n",
       "      <td>mm</td>\n",
       "      <td>0.000</td>\n",
       "      <td>Rainfall station</td>\n",
       "      <td>54.624106</td>\n",
       "      <td>-1.870637</td>\n",
       "      <td>0.0</td>\n",
       "    </tr>\n",
       "    <tr>\n",
       "      <th>3</th>\n",
       "      <td>238777TP</td>\n",
       "      <td>rainfall</td>\n",
       "      <td>Tipping Bucket Raingauge</td>\n",
       "      <td>mm</td>\n",
       "      <td>0.000</td>\n",
       "      <td>Rainfall station</td>\n",
       "      <td>51.736595</td>\n",
       "      <td>0.223782</td>\n",
       "      <td>0.0</td>\n",
       "    </tr>\n",
       "    <tr>\n",
       "      <th>4</th>\n",
       "      <td>43228</td>\n",
       "      <td>rainfall</td>\n",
       "      <td>Tipping Bucket Raingauge</td>\n",
       "      <td>mm</td>\n",
       "      <td>0.000</td>\n",
       "      <td>Rainfall station</td>\n",
       "      <td>50.968057</td>\n",
       "      <td>-2.158729</td>\n",
       "      <td>0.0</td>\n",
       "    </tr>\n",
       "    <tr>\n",
       "      <th>...</th>\n",
       "      <td>...</td>\n",
       "      <td>...</td>\n",
       "      <td>...</td>\n",
       "      <td>...</td>\n",
       "      <td>...</td>\n",
       "      <td>...</td>\n",
       "      <td>...</td>\n",
       "      <td>...</td>\n",
       "      <td>...</td>\n",
       "    </tr>\n",
       "    <tr>\n",
       "      <th>187721</th>\n",
       "      <td>4098</td>\n",
       "      <td>level</td>\n",
       "      <td>Stage</td>\n",
       "      <td>mASD</td>\n",
       "      <td>0.646</td>\n",
       "      <td>Keadby</td>\n",
       "      <td>53.591975</td>\n",
       "      <td>-0.738178</td>\n",
       "      <td>2.0</td>\n",
       "    </tr>\n",
       "    <tr>\n",
       "      <th>187722</th>\n",
       "      <td>E1550</td>\n",
       "      <td>level</td>\n",
       "      <td>Stage</td>\n",
       "      <td>mASD</td>\n",
       "      <td>1.150</td>\n",
       "      <td>Town Lock</td>\n",
       "      <td>51.194615</td>\n",
       "      <td>0.278452</td>\n",
       "      <td>3.0</td>\n",
       "    </tr>\n",
       "    <tr>\n",
       "      <th>187723</th>\n",
       "      <td>E1550</td>\n",
       "      <td>level</td>\n",
       "      <td>Stage</td>\n",
       "      <td>mASD</td>\n",
       "      <td>1.150</td>\n",
       "      <td>Town Lock</td>\n",
       "      <td>51.194615</td>\n",
       "      <td>0.278452</td>\n",
       "      <td>3.0</td>\n",
       "    </tr>\n",
       "    <tr>\n",
       "      <th>187724</th>\n",
       "      <td>E1550</td>\n",
       "      <td>level</td>\n",
       "      <td>Stage</td>\n",
       "      <td>mASD</td>\n",
       "      <td>1.150</td>\n",
       "      <td>Town Lock</td>\n",
       "      <td>51.194615</td>\n",
       "      <td>0.278452</td>\n",
       "      <td>3.0</td>\n",
       "    </tr>\n",
       "    <tr>\n",
       "      <th>187725</th>\n",
       "      <td>E1550</td>\n",
       "      <td>level</td>\n",
       "      <td>Stage</td>\n",
       "      <td>mASD</td>\n",
       "      <td>1.150</td>\n",
       "      <td>Town Lock</td>\n",
       "      <td>51.194615</td>\n",
       "      <td>0.278452</td>\n",
       "      <td>3.0</td>\n",
       "    </tr>\n",
       "  </tbody>\n",
       "</table>\n",
       "<p>187726 rows × 9 columns</p>\n",
       "</div>"
      ],
      "text/plain": [
       "       stationReference parameter                 qualifier unitName  wet_day  \\\n",
       "0                 E5726  rainfall  Tipping Bucket Raingauge       mm    0.000   \n",
       "1                  1155  rainfall  Tipping Bucket Raingauge       mm    0.000   \n",
       "2                022994  rainfall  Tipping Bucket Raingauge       mm    0.000   \n",
       "3              238777TP  rainfall  Tipping Bucket Raingauge       mm    0.000   \n",
       "4                 43228  rainfall  Tipping Bucket Raingauge       mm    0.000   \n",
       "...                 ...       ...                       ...      ...      ...   \n",
       "187721             4098     level                     Stage     mASD    0.646   \n",
       "187722            E1550     level                     Stage     mASD    1.150   \n",
       "187723            E1550     level                     Stage     mASD    1.150   \n",
       "187724            E1550     level                     Stage     mASD    1.150   \n",
       "187725            E1550     level                     Stage     mASD    1.150   \n",
       "\n",
       "             stationName   latitude  longitude  aclass  \n",
       "0       Rainfall station  52.611622  -0.461792     0.0  \n",
       "1       Rainfall station  52.417004  -1.125840     0.0  \n",
       "2       Rainfall station  54.624106  -1.870637     0.0  \n",
       "3       Rainfall station  51.736595   0.223782     0.0  \n",
       "4       Rainfall station  50.968057  -2.158729     0.0  \n",
       "...                  ...        ...        ...     ...  \n",
       "187721            Keadby  53.591975  -0.738178     2.0  \n",
       "187722         Town Lock  51.194615   0.278452     3.0  \n",
       "187723         Town Lock  51.194615   0.278452     3.0  \n",
       "187724         Town Lock  51.194615   0.278452     3.0  \n",
       "187725         Town Lock  51.194615   0.278452     3.0  \n",
       "\n",
       "[187726 rows x 9 columns]"
      ]
     },
     "execution_count": 72,
     "metadata": {},
     "output_type": "execute_result"
    }
   ],
   "source": [
    "wet_day = pd.concat([merge1, merge2]).reset_index(drop=True)\n",
    "wet_day"
   ]
  },
  {
   "cell_type": "markdown",
   "id": "45283529",
   "metadata": {},
   "source": [
    "## Save dataframes"
   ]
  },
  {
   "cell_type": "code",
   "execution_count": null,
   "id": "7a8cb256",
   "metadata": {},
   "outputs": [],
   "source": [
    "# wet_day.to_csv()\n",
    "\n",
    "# typical_day.to_csv()"
   ]
  },
  {
   "cell_type": "markdown",
   "id": "8ef724a9",
   "metadata": {},
   "source": [
    "## Mapping"
   ]
  },
  {
   "cell_type": "code",
   "execution_count": null,
   "id": "75e3d727",
   "metadata": {},
   "outputs": [],
   "source": [
    "def plot_circle(lat, lon, radius, map=None, **kwargs):\n",
    "    \"\"\"\n",
    "    Plot a circle on a map (creating a new folium map instance if necessary).\n",
    "    Parameters\n",
    "    ----------\n",
    "    lat: float\n",
    "        latitude of circle to plot (degrees)\n",
    "    lon: float\n",
    "        longitude of circle to plot (degrees)\n",
    "    radius: float\n",
    "        radius of circle to plot (m)\n",
    "    map: folium.Map\n",
    "        existing map object\n",
    "    Returns\n",
    "    -------\n",
    "    Folium map object\n",
    "    Examples\n",
    "    --------\n",
    "    >>> import folium\n",
    "    >>> armageddon.plot_circle(52.79, -2.95, 1e3, map=None)\n",
    "    \"\"\"\n",
    "\n",
    "    if not map:\n",
    "        map = folium.Map(location=[lat, lon], control_scale=True)\n",
    "\n",
    "    folium.Circle(location=[lat, lon], radius=radius, fill=True,\n",
    "                  fillOpacity=0.6, **kwargs).add_to(map)\n",
    "\n",
    "    return map"
   ]
  },
  {
   "cell_type": "code",
   "execution_count": null,
   "id": "6d378afe",
   "metadata": {},
   "outputs": [],
   "source": [
    "plot_circle(53.719075, -0.434087, radius=10000)"
   ]
  },
  {
   "cell_type": "code",
   "execution_count": null,
   "id": "79c419c2",
   "metadata": {},
   "outputs": [],
   "source": [
    "# folium marker for station can give name and reference"
   ]
  },
  {
   "cell_type": "code",
   "execution_count": null,
   "id": "22c6746c",
   "metadata": {},
   "outputs": [],
   "source": [
    "map = plot_circle(53., 0, 2000.) #Plots a circle of radius 2000 m at the lat, lon: 53., 0.\n",
    "\n",
    "folium.Marker(location=(53, 0.1), \n",
    "                  popup='This is my popup',\n",
    "                  icon=folium.Icon(color='black', icon='info-sign')).add_to(map)\n",
    "map"
   ]
  }
 ],
 "metadata": {
  "kernelspec": {
   "display_name": "Python 3 (ipykernel)",
   "language": "python",
   "name": "python3"
  },
  "language_info": {
   "codemirror_mode": {
    "name": "ipython",
    "version": 3
   },
   "file_extension": ".py",
   "mimetype": "text/x-python",
   "name": "python",
   "nbconvert_exporter": "python",
   "pygments_lexer": "ipython3",
   "version": "3.9.7"
  }
 },
 "nbformat": 4,
 "nbformat_minor": 5
}
