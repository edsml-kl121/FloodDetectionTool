{
 "cells": [
  {
   "cell_type": "code",
   "execution_count": 4,
   "id": "7d70996b",
   "metadata": {},
   "outputs": [
    {
     "ename": "ModuleNotFoundError",
     "evalue": "No module named 'geo'",
     "output_type": "error",
     "traceback": [
      "\u001b[0;31m---------------------------------------------------------------------------\u001b[0m",
      "\u001b[0;31mModuleNotFoundError\u001b[0m                       Traceback (most recent call last)",
      "\u001b[0;32m<ipython-input-4-0ba68882f34c>\u001b[0m in \u001b[0;36m<module>\u001b[0;34m\u001b[0m\n\u001b[1;32m      8\u001b[0m \u001b[0;34m\u001b[0m\u001b[0m\n\u001b[1;32m      9\u001b[0m \u001b[0;34m\u001b[0m\u001b[0m\n\u001b[0;32m---> 10\u001b[0;31m \u001b[0;32mimport\u001b[0m \u001b[0mgeo\u001b[0m\u001b[0;34m\u001b[0m\u001b[0;34m\u001b[0m\u001b[0m\n\u001b[0m\u001b[1;32m     11\u001b[0m \u001b[0;34m\u001b[0m\u001b[0m\n\u001b[1;32m     12\u001b[0m \u001b[0;32mfrom\u001b[0m \u001b[0mgeo\u001b[0m \u001b[0;32mimport\u001b[0m \u001b[0;34m*\u001b[0m\u001b[0;34m\u001b[0m\u001b[0;34m\u001b[0m\u001b[0m\n",
      "\u001b[0;31mModuleNotFoundError\u001b[0m: No module named 'geo'"
     ]
    }
   ],
   "source": [
    "\"\"\"Test geodetic transformations module.\"\"\"\n",
    "\n",
    "import copy\n",
    "\n",
    "import numpy as np\n",
    "from pytest import approx, mark\n",
    "\n",
    "\n",
    "import geo \n",
    "\n",
    "from geo import *"
   ]
  },
  {
   "cell_type": "code",
   "execution_count": 3,
   "id": "2c9bf0bc",
   "metadata": {},
   "outputs": [],
   "source": [
    "def test_rad():\n",
    "    \"\"\"Test rad function\"\"\"\n",
    "    assert geo.rad(180) == approx(np.pi)\n",
    "    assert geo.rad(1, 7, 30) == approx(np.pi/160.)\n",
    "    assert geo.rad(np.array([90, 60])) == approx(np.array((np.pi/2.,\n",
    "                                                            np.pi*2./3.)))\n",
    "if __name__ == \"main\":\n",
    "    test_rad()"
   ]
  },
  {
   "cell_type": "code",
   "execution_count": 1,
   "id": "d245b87b",
   "metadata": {},
   "outputs": [
    {
     "ename": "ModuleNotFoundError",
     "evalue": "No module named 'geo'",
     "output_type": "error",
     "traceback": [
      "\u001b[0;31m---------------------------------------------------------------------------\u001b[0m",
      "\u001b[0;31mModuleNotFoundError\u001b[0m                       Traceback (most recent call last)",
      "\u001b[0;32m<ipython-input-1-68ce25386cbb>\u001b[0m in \u001b[0;36m<module>\u001b[0;34m\u001b[0m\n\u001b[1;32m      6\u001b[0m \u001b[0;32mimport\u001b[0m \u001b[0mpandas\u001b[0m \u001b[0;32mas\u001b[0m \u001b[0mpd\u001b[0m\u001b[0;34m\u001b[0m\u001b[0;34m\u001b[0m\u001b[0m\n\u001b[1;32m      7\u001b[0m \u001b[0;34m\u001b[0m\u001b[0m\n\u001b[0;32m----> 8\u001b[0;31m \u001b[0;32mfrom\u001b[0m \u001b[0mgeo\u001b[0m \u001b[0;32mimport\u001b[0m \u001b[0;34m*\u001b[0m\u001b[0;34m\u001b[0m\u001b[0;34m\u001b[0m\u001b[0m\n\u001b[0m\u001b[1;32m      9\u001b[0m \u001b[0;34m\u001b[0m\u001b[0m\n\u001b[1;32m     10\u001b[0m \u001b[0;34m\u001b[0m\u001b[0m\n",
      "\u001b[0;31mModuleNotFoundError\u001b[0m: No module named 'geo'"
     ]
    }
   ],
   "source": [
    "\"\"\"Example module in template package.\"\"\"\n",
    "\n",
    "import os\n",
    "\n",
    "import numpy as np\n",
    "import pandas as pd\n",
    "\n",
    "from geo import *\n",
    "\n",
    "\n",
    "__all__ = ['Tool']\n",
    "__file__ = './'\n",
    "\n",
    "class Tool(object):\n",
    "    \"\"\"Class to interact with a postcode database file.\"\"\"\n",
    "\n",
    "    def __init__(self, postcode_file='', sample_labels='',\n",
    "                 household_file=''):\n",
    "\n",
    "        \"\"\"\n",
    "        Parameters\n",
    "        ----------\n",
    "\n",
    "        postcode_file : str, optional\n",
    "            Filename of a .csv file containing geographic location\n",
    "            data for postcodes.\n",
    "\n",
    "        sample_labels : str, optional\n",
    "            Filename of a .csv file containing sample data on property\n",
    "            values and flood risk labels.\n",
    "\n",
    "        household_file : str, optional\n",
    "            Filename of a .csv file containing information on households\n",
    "            by postcode.\n",
    "        \"\"\"\n",
    "        if postcode_file == '':\n",
    "            postcode_file = os.sep.join((os.path.dirname(__file__),\n",
    "                                         'resources',\n",
    "                                         'postcodes_unlabelled.csv'))\n",
    "\n",
    "        if sample_labels == '':\n",
    "            sample_labels = os.sep.join((os.path.dirname(__file__),\n",
    "                                         'resources',\n",
    "                                         'postcodes_sampled.csv'))\n",
    "\n",
    "        if household_file == '':\n",
    "            household_file = os.sep.join((os.path.dirname(__file__),\n",
    "                                          'resources',\n",
    "                                          'households_per_sector.csv'))\n",
    "        self.postcodes = pd.read_csv(postcode_file)\n",
    "        self.label = pd.read_csv(sample_labels)\n",
    "        self.household = pd.read_csv(household_file)\n",
    "\n",
    "    def get_easting_northing(self, postcodes):\n",
    "        \"\"\"Get a frame of OS eastings and northings from a collection\n",
    "        of input postcodes.\n",
    "\n",
    "        Parameters\n",
    "        ----------\n",
    "\n",
    "        postcodes: sequence of strs\n",
    "            Sequence of postcodes.\n",
    "\n",
    "        Returns\n",
    "        -------\n",
    "\n",
    "        pandas.DataFrame\n",
    "            DataFrame containing only OSGB36 easthing and northing indexed\n",
    "            by the input postcodes. Invalid postcodes (i.e. not in the\n",
    "            input unlabelled postcodes file) return as NaN.\n",
    "         \"\"\"\n",
    "        postcode_df = self.postcodes\n",
    "        postcode_df = postcode_df.fillna('np.nan')\n",
    "        postcode_df = postcode_df.set_index('postcode')\n",
    "        index_data = postcode_df.loc[postcodes]\n",
    "        east = np.array(index_data['easting']).T\n",
    "        north = np.array(index_data['northing']).T\n",
    "        df = pd.DataFrame(np.vstack((east, north)).transpose(),columns=('east','north'))\n",
    "        \n",
    "        return df\n",
    "\n",
    "\n",
    "    def get_lat_long(self, postcodes):\n",
    "        \"\"\"Get a frame containing GPS latitude and longitude information for a\n",
    "        collection of of postcodes.\n",
    "\n",
    "        Parameters\n",
    "        ----------\n",
    "\n",
    "        postcodes: sequence of strs\n",
    "            Sequence of postcodes.\n",
    "\n",
    "        Returns\n",
    "        -------\n",
    "\n",
    "        pandas.DataFrame\n",
    "            DataFrame containing only WGS84 latitude and longitude pairs for\n",
    "            the input postcodes. Invalid postcodes (i.e. not in the\n",
    "            input unlabelled postcodes file) return as NAN.\n",
    "        \"\"\"\n",
    "        NE = self.get_easting_northing(postcodes)\n",
    "        east = NE['easting']\n",
    "        north = NE['northing']\n",
    "        lat_long = []\n",
    "        for i in range(len(NE)):\n",
    "            a = get_gps_lat_long_from_easting_northing([east[i]],[north[i]],rads=False)\n",
    "            lat_long.append(a)\n",
    "        return pd.DataFrame(lat_long, columns=('lat','lon'))"
   ]
  },
  {
   "cell_type": "code",
   "execution_count": null,
   "id": "14a71fea",
   "metadata": {},
   "outputs": [],
   "source": [
    "t= Tool()"
   ]
  },
  {
   "cell_type": "code",
   "execution_count": null,
   "id": "f5520cd8",
   "metadata": {},
   "outputs": [],
   "source": [
    "east = t.get_easting_northing('YO62 4LS')['easting']\n",
    "north = t.get_easting_northing('YO62 4LS')['northing']\n",
    "east\n",
    "north"
   ]
  },
  {
   "cell_type": "code",
   "execution_count": 6,
   "id": "325a4e0b",
   "metadata": {},
   "outputs": [
    {
     "data": {
      "text/html": [
       "<div>\n",
       "<style scoped>\n",
       "    .dataframe tbody tr th:only-of-type {\n",
       "        vertical-align: middle;\n",
       "    }\n",
       "\n",
       "    .dataframe tbody tr th {\n",
       "        vertical-align: top;\n",
       "    }\n",
       "\n",
       "    .dataframe thead th {\n",
       "        text-align: right;\n",
       "    }\n",
       "</style>\n",
       "<table border=\"1\" class=\"dataframe\">\n",
       "  <thead>\n",
       "    <tr style=\"text-align: right;\">\n",
       "      <th></th>\n",
       "      <th>east</th>\n",
       "      <th>north</th>\n",
       "    </tr>\n",
       "  </thead>\n",
       "  <tbody>\n",
       "    <tr>\n",
       "      <th>0</th>\n",
       "      <td>467631.0</td>\n",
       "      <td>472825.0</td>\n",
       "    </tr>\n",
       "  </tbody>\n",
       "</table>\n",
       "</div>"
      ],
      "text/plain": [
       "       east     north\n",
       "0  467631.0  472825.0"
      ]
     },
     "execution_count": 6,
     "metadata": {},
     "output_type": "execute_result"
    }
   ],
   "source": [
    "t.get_easting_northing('YO62 4LS')"
   ]
  },
  {
   "cell_type": "code",
   "execution_count": 7,
   "id": "0a2b86a9",
   "metadata": {},
   "outputs": [
    {
     "data": {
      "text/plain": [
       "(array([54.1466214]), array([-0.96448663]))"
      ]
     },
     "execution_count": 7,
     "metadata": {},
     "output_type": "execute_result"
    }
   ],
   "source": [
    "get_gps_lat_long_from_easting_northing([east[0]],[north[0]],rads=False)"
   ]
  },
  {
   "cell_type": "code",
   "execution_count": 8,
   "id": "fccdac8d",
   "metadata": {},
   "outputs": [
    {
     "data": {
      "text/html": [
       "<div>\n",
       "<style scoped>\n",
       "    .dataframe tbody tr th:only-of-type {\n",
       "        vertical-align: middle;\n",
       "    }\n",
       "\n",
       "    .dataframe tbody tr th {\n",
       "        vertical-align: top;\n",
       "    }\n",
       "\n",
       "    .dataframe thead th {\n",
       "        text-align: right;\n",
       "    }\n",
       "</style>\n",
       "<table border=\"1\" class=\"dataframe\">\n",
       "  <thead>\n",
       "    <tr style=\"text-align: right;\">\n",
       "      <th></th>\n",
       "      <th>lat</th>\n",
       "      <th>lon</th>\n",
       "    </tr>\n",
       "  </thead>\n",
       "  <tbody>\n",
       "    <tr>\n",
       "      <th>0</th>\n",
       "      <td>[54.14662140154492]</td>\n",
       "      <td>[-0.964486631996326]</td>\n",
       "    </tr>\n",
       "  </tbody>\n",
       "</table>\n",
       "</div>"
      ],
      "text/plain": [
       "                   lat                   lon\n",
       "0  [54.14662140154492]  [-0.964486631996326]"
      ]
     },
     "execution_count": 8,
     "metadata": {},
     "output_type": "execute_result"
    }
   ],
   "source": [
    "t.get_lat_long('YO62 4LS')"
   ]
  },
  {
   "cell_type": "markdown",
   "id": "d569c32f",
   "metadata": {},
   "source": [
    "### test_get_easting_northing"
   ]
  },
  {
   "cell_type": "code",
   "execution_count": 10,
   "id": "cc2d5893",
   "metadata": {},
   "outputs": [],
   "source": [
    "def test_get_easting_northing():\n",
    "    \"\"\"Test get_easting_northing function\"\"\"\n",
    "    east = t.get_easting_northing('YO62 4LS')['east']\n",
    "    north = t.get_easting_northing('YO62 4LS')['north']\n",
    "    \n",
    "    if east is NotImplemented:\n",
    "        assert False\n",
    "\n",
    "    assert np.isclose(east[0], 467631.0).all()\n",
    "    assert np.isclose(north[0], 472825.0).all()\n",
    "\n",
    "if __name__ == \"__main__\":\n",
    "    test_get_easting_northing()"
   ]
  },
  {
   "cell_type": "markdown",
   "id": "40b9da9f",
   "metadata": {},
   "source": [
    "### test_get_lat_long"
   ]
  },
  {
   "cell_type": "code",
   "execution_count": 33,
   "id": "9988b6c9",
   "metadata": {},
   "outputs": [],
   "source": [
    "def test_get_lat_long():\n",
    "    \"\"\"Test get_lat_long function\"\"\"\n",
    "    lat = t.get_lat_long('YO62 4LS')['lat']\n",
    "    lon = t.get_lat_long('YO62 4LS')['lon']\n",
    "    \n",
    "    if east is NotImplemented:\n",
    "        assert False\n",
    "\n",
    "    assert np.isclose(lat[0], 54.1466).all()\n",
    "    assert np.isclose(lon[0], -0.96449).all()\n",
    "\n",
    "if __name__ == \"__main__\":\n",
    "    test_get_lat_long()"
   ]
  },
  {
   "cell_type": "code",
   "execution_count": 12,
   "id": "493011cf",
   "metadata": {},
   "outputs": [],
   "source": [
    "import ipywidgets as widgets\n",
    "from IPython.display import display"
   ]
  },
  {
   "cell_type": "code",
   "execution_count": 13,
   "id": "20e3369d",
   "metadata": {},
   "outputs": [
    {
     "data": {
      "application/vnd.jupyter.widget-view+json": {
       "model_id": "41a4a174329f431f9b38976fd6fcd1db",
       "version_major": 2,
       "version_minor": 0
      },
      "text/plain": [
       "IntSlider(value=0)"
      ]
     },
     "metadata": {},
     "output_type": "display_data"
    },
    {
     "data": {
      "text/plain": [
       "['_dom_classes',\n",
       " '_model_module',\n",
       " '_model_module_version',\n",
       " '_model_name',\n",
       " '_view_count',\n",
       " '_view_module',\n",
       " '_view_module_version',\n",
       " '_view_name',\n",
       " 'continuous_update',\n",
       " 'description',\n",
       " 'description_tooltip',\n",
       " 'disabled',\n",
       " 'layout',\n",
       " 'max',\n",
       " 'min',\n",
       " 'orientation',\n",
       " 'readout',\n",
       " 'readout_format',\n",
       " 'step',\n",
       " 'style',\n",
       " 'value']"
      ]
     },
     "execution_count": 13,
     "metadata": {},
     "output_type": "execute_result"
    }
   ],
   "source": [
    "w = widgets.IntSlider()\n",
    "display(w)\n",
    "w.keys"
   ]
  },
  {
   "cell_type": "code",
   "execution_count": 14,
   "id": "a723bb45",
   "metadata": {},
   "outputs": [],
   "source": [
    "import seaborn as sns\n",
    "import matplotlib.pyplot as plt"
   ]
  },
  {
   "cell_type": "code",
   "execution_count": 15,
   "id": "73aaebf7",
   "metadata": {},
   "outputs": [
    {
     "data": {
      "application/vnd.jupyter.widget-view+json": {
       "model_id": "4ede283e8b55452d956ae4c4649f6e8c",
       "version_major": 2,
       "version_minor": 0
      },
      "text/plain": [
       "interactive(children=(Output(),), _dom_classes=('widget-interact',))"
      ]
     },
     "metadata": {},
     "output_type": "display_data"
    }
   ],
   "source": [
    "widgets.IntSlider(step=2, description='Number: ')\n",
    "cars = sns.load_dataset('mpg')\n",
    "\n",
    "def bandwidth_widget():\n",
    "    plt.plot(cars.horsepower)\n",
    "    \n",
    "widgets.interact(bandwidth_widget);"
   ]
  },
  {
   "cell_type": "code",
   "execution_count": 16,
   "id": "cef0ca52",
   "metadata": {},
   "outputs": [],
   "source": [
    "def kde_widget(fill=True, color='blue'):\n",
    "    sns.kdeplot(cars.horsepower, color=color, lw=3, fill=fill)\n",
    "    plt.xlim(0, 300)\n",
    "    plt.ylim(0, 0.02)"
   ]
  },
  {
   "cell_type": "code",
   "execution_count": 17,
   "id": "bab7f2e2",
   "metadata": {},
   "outputs": [
    {
     "data": {
      "application/vnd.jupyter.widget-view+json": {
       "model_id": "b4bd051ff2634dbf9ee203317aa71510",
       "version_major": 2,
       "version_minor": 0
      },
      "text/plain": [
       "interactive(children=(Checkbox(value=True, description='fill'), Dropdown(description='color', options=('blue',…"
      ]
     },
     "metadata": {},
     "output_type": "display_data"
    },
    {
     "data": {
      "image/png": "[encoded data removed]",
      "text/plain": [
       "<Figure size 432x288 with 1 Axes>"
      ]
     },
     "metadata": {
      "needs_background": "light"
     },
     "output_type": "display_data"
    }
   ],
   "source": [
    "widgets.interact(kde_widget, \n",
    "                 fill=True,\n",
    "                 color=['blue', 'red', 'green', 'orange']\n",
    "                 );"
   ]
  },
  {
   "cell_type": "code",
   "execution_count": 18,
   "id": "83e916d3",
   "metadata": {},
   "outputs": [],
   "source": [
    "def bandwidth_widgets(bw=1):\n",
    "    sns.kdeplot(cars.horsepower, lw=3, fill=True, bw_adjust=bw)\n",
    "    plt.xlim(-30,300)\n",
    "    plt.ylim(0,0.03);"
   ]
  },
  {
   "cell_type": "code",
   "execution_count": 19,
   "id": "e2b6bed3",
   "metadata": {},
   "outputs": [
    {
     "data": {
      "application/vnd.jupyter.widget-view+json": {
       "model_id": "da2fbbb5bac84d41b0c734f7ea608d2c",
       "version_major": 2,
       "version_minor": 0
      },
      "text/plain": [
       "interactive(children=(FloatSlider(value=1.0, description='bw', max=3.0, min=0.1), Output()), _dom_classes=('wi…"
      ]
     },
     "metadata": {},
     "output_type": "display_data"
    },
    {
     "data": {
      "image/png": "[encoded data removed]",
      "text/plain": [
       "<Figure size 432x288 with 1 Axes>"
      ]
     },
     "metadata": {
      "needs_background": "light"
     },
     "output_type": "display_data"
    }
   ],
   "source": [
    "widgets.interact(bandwidth_widgets,bw=(.1,3));"
   ]
  },
  {
   "cell_type": "code",
   "execution_count": 20,
   "id": "a5354dc7",
   "metadata": {},
   "outputs": [],
   "source": [
    "def bandwidth_widget_scaled(bw=1):\n",
    "    sns.kdeplot(car.horsepower, bw_adjust=bw*.1, lw=3, fill=True)\n",
    "    plt.xlim(-30, 300)\n",
    "    plt.ylim(0, .03)"
   ]
  },
  {
   "cell_type": "code",
   "execution_count": 21,
   "id": "d315b7a3",
   "metadata": {},
   "outputs": [
    {
     "data": {
      "application/vnd.jupyter.widget-view+json": {
       "model_id": "a61fc0e9c7cd4f94961aaafaddc34e67",
       "version_major": 2,
       "version_minor": 0
      },
      "text/plain": [
       "interactive(children=(Play(value=1, description='bw', max=20, min=1), Output()), _dom_classes=('widget-interac…"
      ]
     },
     "metadata": {},
     "output_type": "display_data"
    }
   ],
   "source": [
    "widgets.interact(bandwidth_widget_scaled, bw=widgets.Play(min=1, max=20));"
   ]
  },
  {
   "cell_type": "code",
   "execution_count": 22,
   "id": "4122ee94",
   "metadata": {},
   "outputs": [],
   "source": [
    "data = pd.read_csv(\"resources/postcodes_sampled.csv\")"
   ]
  },
  {
   "cell_type": "code",
   "execution_count": 23,
   "id": "45412ac8",
   "metadata": {},
   "outputs": [
    {
     "ename": "SyntaxError",
     "evalue": "invalid syntax (<ipython-input-23-455680ca2399>, line 1)",
     "output_type": "error",
     "traceback": [
      "\u001b[0;36m  File \u001b[0;32m\"<ipython-input-23-455680ca2399>\"\u001b[0;36m, line \u001b[0;32m1\u001b[0m\n\u001b[0;31m    def\u001b[0m\n\u001b[0m        ^\u001b[0m\n\u001b[0;31mSyntaxError\u001b[0m\u001b[0;31m:\u001b[0m invalid syntax\n"
     ]
    }
   ],
   "source": [
    "def "
   ]
  },
  {
   "cell_type": "code",
   "execution_count": null,
   "id": "3120d735",
   "metadata": {},
   "outputs": [],
   "source": [
    "import holoviews as hv"
   ]
  },
  {
   "cell_type": "code",
   "execution_count": null,
   "id": "46c3cd07",
   "metadata": {},
   "outputs": [],
   "source": []
  }
 ],
 "metadata": {
  "kernelspec": {
   "display_name": "Python 3",
   "language": "python",
   "name": "python3"
  },
  "language_info": {
   "codemirror_mode": {
    "name": "ipython",
    "version": 3
   },
   "file_extension": ".py",
   "mimetype": "text/x-python",
   "name": "python",
   "nbconvert_exporter": "python",
   "pygments_lexer": "ipython3",
   "version": "3.8.8"
  }
 },
 "nbformat": 4,
 "nbformat_minor": 5
}
