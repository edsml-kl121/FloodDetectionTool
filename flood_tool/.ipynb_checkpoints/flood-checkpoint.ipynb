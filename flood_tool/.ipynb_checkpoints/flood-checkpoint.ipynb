{
 "cells": [
  {
   "cell_type": "code",
   "execution_count": 93,
   "metadata": {},
   "outputs": [],
   "source": [
    "import os\n",
    "\n",
    "import numpy as np\n",
    "import pandas as pd\n",
    "from sklearn.model_selection import train_test_split, GridSearchCV\n",
    "from sklearn.ensemble import RandomForestClassifier\n",
    "from sklearn.model_selection import cross_validate\n",
    "from sklearn.neighbors import KNeighborsClassifier \n",
    "from sklearn.linear_model import SGDClassifier\n",
    "from sklearn import svm\n",
    "\n",
    "from sklearn.metrics import precision_score, recall_score, accuracy_score, f1_score"
   ]
  },
  {
   "cell_type": "markdown",
   "metadata": {},
   "source": [
    "# Data Preprocessing"
   ]
  },
  {
   "cell_type": "code",
   "execution_count": 94,
   "metadata": {},
   "outputs": [],
   "source": [
    "data = pd.read_csv(\"resources/postcodes_sampled.csv\")"
   ]
  },
  {
   "cell_type": "code",
   "execution_count": 95,
   "metadata": {},
   "outputs": [],
   "source": [
    "X = data[[\"easting\",\"northing\"]]\n",
    "y = data['riskLabel']\n",
    "# X_train, X_test, y_train, y_test = train_test_split(X, y, test_size = 0.3, random_state = 42) # Holdout"
   ]
  },
  {
   "cell_type": "code",
   "execution_count": 96,
   "metadata": {},
   "outputs": [
    {
     "data": {
      "text/plain": [
       "['easting', 'northing', 'riskLabel']"
      ]
     },
     "execution_count": 96,
     "metadata": {},
     "output_type": "execute_result"
    }
   ],
   "source": [
    "features"
   ]
  },
  {
   "cell_type": "code",
   "execution_count": 97,
   "metadata": {},
   "outputs": [],
   "source": [
    "features = [\"easting\",\"northing\",\"riskLabel\"]\n",
    "data_train, data_test = train_test_split(data, test_size=.3)\n",
    "\n",
    "data_train = pd.DataFrame(data_train, columns=features)\n",
    "data_test = pd.DataFrame(data_test, columns=features)"
   ]
  },
  {
   "cell_type": "code",
   "execution_count": 110,
   "metadata": {},
   "outputs": [],
   "source": [
    "data_cv = data_train.sample(frac=.05)"
   ]
  },
  {
   "cell_type": "code",
   "execution_count": 111,
   "metadata": {},
   "outputs": [],
   "source": [
    "X_train = data_train.drop('riskLabel', axis=1)\n",
    "X_test = data_test.drop('riskLabel', axis=1)\n",
    "X_cv = data_cv.drop('riskLabel', axis=1)\n",
    "y_train = data_train['riskLabel'].copy()\n",
    "y_test = data_test['riskLabel'].copy()\n",
    "y_cv = data_cv['riskLabel'].copy()"
   ]
  },
  {
   "cell_type": "markdown",
   "metadata": {},
   "source": [
    "# SVC"
   ]
  },
  {
   "cell_type": "code",
   "execution_count": null,
   "metadata": {},
   "outputs": [
    {
     "name": "stderr",
     "output_type": "stream",
     "text": [
      "/Users/kandanai/opt/anaconda3/envs/ese-msc/lib/python3.9/site-packages/sklearn/model_selection/_split.py:676: UserWarning: The least populated class in y has only 1 members, which is less than n_splits=5.\n",
      "  warnings.warn(\n"
     ]
    }
   ],
   "source": [
    "clf = svm.SVC()\n",
    "params = {'kernel':['linear','poly', 'rbf', 'sigmoid'],\n",
    "         'gamma': ['scale','auto']}\n",
    "\n",
    "# , 'poly', 'rbf', 'sigmoid', 'precomputed'\n",
    "\n",
    "svc_gs = GridSearchCV(clf, params, scoring=\"precision\", cv=5, n_jobs=-1)\n",
    "svc_gs.fit(X_cv, y_cv)"
   ]
  },
  {
   "cell_type": "code",
   "execution_count": 103,
   "metadata": {},
   "outputs": [
    {
     "data": {
      "text/plain": [
       "{'gamma': 'scale', 'kernel': 'linear'}"
      ]
     },
     "execution_count": 103,
     "metadata": {},
     "output_type": "execute_result"
    }
   ],
   "source": [
    "svc_gs.best_params_"
   ]
  },
  {
   "cell_type": "code",
   "execution_count": 104,
   "metadata": {},
   "outputs": [
    {
     "data": {
      "text/plain": [
       "nan"
      ]
     },
     "execution_count": 104,
     "metadata": {},
     "output_type": "execute_result"
    }
   ],
   "source": [
    "svc_gs.best_score_"
   ]
  },
  {
   "cell_type": "code",
   "execution_count": 105,
   "metadata": {},
   "outputs": [
    {
     "data": {
      "text/plain": [
       "SVC(kernel='linear')"
      ]
     },
     "execution_count": 105,
     "metadata": {},
     "output_type": "execute_result"
    }
   ],
   "source": [
    "svc_gs.best_estimator_"
   ]
  },
  {
   "cell_type": "code",
   "execution_count": 77,
   "metadata": {},
   "outputs": [
    {
     "data": {
      "text/plain": [
       "fit_time         1.721393\n",
       "score_time       0.688344\n",
       "test_accuracy    0.947286\n",
       "dtype: float64"
      ]
     },
     "execution_count": 77,
     "metadata": {},
     "output_type": "execute_result"
    }
   ],
   "source": [
    "clf = svm.SVC()\n",
    "clf.fit(X_train, y_train)\n",
    "cv_results = cross_validate(clf, X_train, y_train, scoring=['accuracy'])\n",
    "pd.DataFrame(cv_results).mean()"
   ]
  },
  {
   "cell_type": "code",
   "execution_count": 85,
   "metadata": {},
   "outputs": [
    {
     "name": "stdout",
     "output_type": "stream",
     "text": [
      "0.9423333333333334\n"
     ]
    }
   ],
   "source": [
    "y_pred = clf.predict(X_test)\n",
    "accuracy_svc = clf.score(X_test, y_test)\n",
    "# accuracy2 = accuracy_score(y_test, y_pred)\n",
    "print(accuracy_svc)"
   ]
  },
  {
   "cell_type": "markdown",
   "metadata": {},
   "source": [
    "# Random Forest"
   ]
  },
  {
   "cell_type": "code",
   "execution_count": 79,
   "metadata": {},
   "outputs": [],
   "source": [
    "forest_classifier = RandomForestClassifier()\n",
    "forest_classifier.fit(X_train, y_train)\n",
    "cv_results = cross_validate(forest_classifier, X_train, y_train, scoring=['accuracy'])"
   ]
  },
  {
   "cell_type": "code",
   "execution_count": 86,
   "metadata": {},
   "outputs": [
    {
     "name": "stdout",
     "output_type": "stream",
     "text": [
      "0.9438333333333333\n"
     ]
    }
   ],
   "source": [
    "y_pred = forest_classifier.predict(X_test)\n",
    "accuracy_rf = forest_classifier.score(X_test, y_test)\n",
    "# accuracy2 = accuracy_score(y_test, y_pred)\n",
    "print(accuracy_rf)"
   ]
  },
  {
   "cell_type": "markdown",
   "metadata": {},
   "source": [
    "# KNN classifier"
   ]
  },
  {
   "cell_type": "code",
   "execution_count": 81,
   "metadata": {},
   "outputs": [
    {
     "data": {
      "text/plain": [
       "fit_time         0.003917\n",
       "score_time       0.055523\n",
       "test_accuracy    0.947286\n",
       "dtype: float64"
      ]
     },
     "execution_count": 81,
     "metadata": {},
     "output_type": "execute_result"
    }
   ],
   "source": [
    "neigh = KNeighborsClassifier(n_neighbors=50)\n",
    "neigh.fit(X_train, y_train)\n",
    "cv_results = cross_validate(neigh, X_train, y_train, scoring=['accuracy'])\n",
    "pd.DataFrame(cv_results).mean()"
   ]
  },
  {
   "cell_type": "code",
   "execution_count": 87,
   "metadata": {},
   "outputs": [
    {
     "name": "stdout",
     "output_type": "stream",
     "text": [
      "0.9423333333333334\n"
     ]
    }
   ],
   "source": [
    "y_pred = neigh.predict(X_test)\n",
    "accuracy_neigh = neigh.score(X_test, y_test)\n",
    "# accuracy2 = accuracy_score(y_test, y_pred)\n",
    "print(accuracy_neigh)"
   ]
  },
  {
   "cell_type": "markdown",
   "metadata": {},
   "source": [
    "# SGD"
   ]
  },
  {
   "cell_type": "code",
   "execution_count": null,
   "metadata": {},
   "outputs": [],
   "source": [
    "svc_bis = SGDClassifier()\n",
    "params = {'penalty':['l2', 'l1', 'elasticnet'],\n",
    "         'alpha': [1/10,5/10, 8/10]}\n",
    "\n",
    "# , 'poly', 'rbf', 'sigmoid', 'precomputed'\n",
    "\n",
    "svc_gs = GridSearchCV(clf, params, scoring=\"precision\", cv=5, n_jobs=-1)\n",
    "svc_gs.fit(X_cv, y_cv)"
   ]
  },
  {
   "cell_type": "code",
   "execution_count": 83,
   "metadata": {},
   "outputs": [
    {
     "name": "stderr",
     "output_type": "stream",
     "text": [
      "/Users/kandanai/opt/anaconda3/envs/ese-msc/lib/python3.9/site-packages/sklearn/linear_model/_stochastic_gradient.py:696: ConvergenceWarning: Maximum number of iteration reached before convergence. Consider increasing max_iter to improve the fit.\n",
      "  warnings.warn(\n",
      "/Users/kandanai/opt/anaconda3/envs/ese-msc/lib/python3.9/site-packages/sklearn/linear_model/_stochastic_gradient.py:696: ConvergenceWarning: Maximum number of iteration reached before convergence. Consider increasing max_iter to improve the fit.\n",
      "  warnings.warn(\n",
      "/Users/kandanai/opt/anaconda3/envs/ese-msc/lib/python3.9/site-packages/sklearn/linear_model/_stochastic_gradient.py:696: ConvergenceWarning: Maximum number of iteration reached before convergence. Consider increasing max_iter to improve the fit.\n",
      "  warnings.warn(\n",
      "/Users/kandanai/opt/anaconda3/envs/ese-msc/lib/python3.9/site-packages/sklearn/linear_model/_stochastic_gradient.py:696: ConvergenceWarning: Maximum number of iteration reached before convergence. Consider increasing max_iter to improve the fit.\n",
      "  warnings.warn(\n",
      "/Users/kandanai/opt/anaconda3/envs/ese-msc/lib/python3.9/site-packages/sklearn/linear_model/_stochastic_gradient.py:696: ConvergenceWarning: Maximum number of iteration reached before convergence. Consider increasing max_iter to improve the fit.\n",
      "  warnings.warn(\n",
      "/Users/kandanai/opt/anaconda3/envs/ese-msc/lib/python3.9/site-packages/sklearn/linear_model/_stochastic_gradient.py:696: ConvergenceWarning: Maximum number of iteration reached before convergence. Consider increasing max_iter to improve the fit.\n",
      "  warnings.warn(\n"
     ]
    },
    {
     "data": {
      "text/plain": [
       "fit_time         2.749445\n",
       "score_time       0.001220\n",
       "test_accuracy    0.933429\n",
       "dtype: float64"
      ]
     },
     "execution_count": 83,
     "metadata": {},
     "output_type": "execute_result"
    }
   ],
   "source": [
    "svc_bis = SGDClassifier(loss='hinge', penalty='l1', alpha=1/10)\n",
    "svc_bis.fit(X_train, y_train)\n",
    "cv_results = cross_validate(svc_bis, X_train, y_train, scoring=['accuracy'])\n",
    "pd.DataFrame(cv_results).mean()"
   ]
  },
  {
   "cell_type": "code",
   "execution_count": 88,
   "metadata": {},
   "outputs": [
    {
     "name": "stdout",
     "output_type": "stream",
     "text": [
      "0.9328333333333333\n"
     ]
    }
   ],
   "source": [
    "y_pred = svc_bis.predict(X_test)\n",
    "accuracy_svc_bis = svc_bis.score(X_test, y_test)\n",
    "accuracy2 = accuracy_score(y_test, y_pred)\n",
    "print(accuracy_svc_bis)"
   ]
  },
  {
   "cell_type": "code",
   "execution_count": 91,
   "metadata": {},
   "outputs": [
    {
     "name": "stdout",
     "output_type": "stream",
     "text": [
      "rf 0.9438333333333333\n",
      "svc 0.9423333333333334\n",
      "knn 0.9423333333333334\n",
      "sgd 0.9328333333333333\n"
     ]
    }
   ],
   "source": [
    "print(\"rf\", accuracy_rf)\n",
    "print(\"svc\", accuracy_svc)\n",
    "print(\"knn\", accuracy_neigh)\n",
    "print(\"sgd\", accuracy_svc_bis)"
   ]
  },
  {
   "cell_type": "code",
   "execution_count": null,
   "metadata": {},
   "outputs": [],
   "source": []
  }
 ],
 "metadata": {
  "interpreter": {
   "hash": "b0fa6594d8f4cbf19f97940f81e996739fb7646882a419484c72d19e05852a7e"
  },
  "kernelspec": {
   "display_name": "Python 3",
   "language": "python",
   "name": "python3"
  },
  "language_info": {
   "codemirror_mode": {
    "name": "ipython",
    "version": 3
   },
   "file_extension": ".py",
   "mimetype": "text/x-python",
   "name": "python",
   "nbconvert_exporter": "python",
   "pygments_lexer": "ipython3",
   "version": "3.9.7"
  }
 },
 "nbformat": 4,
 "nbformat_minor": 2
}
