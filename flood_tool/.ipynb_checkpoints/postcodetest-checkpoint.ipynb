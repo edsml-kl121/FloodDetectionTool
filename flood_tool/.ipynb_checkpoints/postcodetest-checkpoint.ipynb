{
 "cells": [
  {
   "cell_type": "code",
   "execution_count": null,
   "metadata": {},
   "outputs": [],
   "source": [
    "from geo import *"
   ]
  },
  {
   "cell_type": "code",
   "execution_count": null,
   "metadata": {},
   "outputs": [],
   "source": [
    "\"\"\"Test geodetic transformations module.\"\"\"\n",
    "\n",
    "import copy\n",
    "\n",
    "import numpy as np\n",
    "from pytest import approx, mark\n",
    "\n",
    "import geo "
   ]
  },
  {
   "cell_type": "code",
   "execution_count": null,
   "metadata": {},
   "outputs": [],
   "source": [
    "t=tool.Tool()"
   ]
  },
  {
   "cell_type": "code",
   "execution_count": null,
   "metadata": {},
   "outputs": [],
   "source": [
    "def test_rad():\n",
    "    \"\"\"Test rad function\"\"\"\n",
    "    assert geo.rad(180) == approx(np.pi)\n",
    "    assert geo.rad(1, 7, 30) == approx(np.pi/160.)\n",
    "    assert geo.rad(np.array([90, 60])) == approx(np.array((np.pi/2.,\n",
    "                                                            np.pi*2./3.)))\n",
    "if __name__ == \"main\":\n",
    "    test_rad()"
   ]
  },
  {
   "cell_type": "code",
   "execution_count": 20,
   "metadata": {},
   "outputs": [],
   "source": [
    "\"\"\"Example module in template package.\"\"\"\n",
    "\n",
    "import os\n",
    "\n",
    "import numpy as np\n",
    "import pandas as pd\n",
    "\n",
    "from geo import *\n",
    "\n",
    "\n",
    "__all__ = ['Tool']\n",
    "__file__ = './'\n",
    "\n",
    "class Tool(object):\n",
    "    \"\"\"Class to interact with a postcode database file.\"\"\"\n",
    "\n",
    "    def __init__(self, postcode_file='', sample_labels='',\n",
    "                 household_file=''):\n",
    "\n",
    "        \"\"\"\n",
    "        Parameters\n",
    "        ----------\n",
    "\n",
    "        postcode_file : str, optional\n",
    "            Filename of a .csv file containing geographic location\n",
    "            data for postcodes.\n",
    "\n",
    "        sample_labels : str, optional\n",
    "            Filename of a .csv file containing sample data on property\n",
    "            values and flood risk labels.\n",
    "\n",
    "        household_file : str, optional\n",
    "            Filename of a .csv file containing information on households\n",
    "            by postcode.\n",
    "        \"\"\"\n",
    "        if postcode_file == '':\n",
    "            postcode_file = os.sep.join((os.path.dirname(__file__),\n",
    "                                         'resources',\n",
    "                                         'postcodes_unlabelled.csv'))\n",
    "\n",
    "        if sample_labels == '':\n",
    "            sample_labels = os.sep.join((os.path.dirname(__file__),\n",
    "                                         'resources',\n",
    "                                         'postcodes_sampled.csv'))\n",
    "\n",
    "        if household_file == '':\n",
    "            household_file = os.sep.join((os.path.dirname(__file__),\n",
    "                                          'resources',\n",
    "                                          'households_per_sector.csv'))\n",
    "        self.postcodes = pd.read_csv(postcode_file)\n",
    "        self.label = pd.read_csv(sample_labels)\n",
    "        self.household = pd.read_csv(household_file)\n",
    "\n",
    "    def get_easting_northing(self, postcodes):\n",
    "        \"\"\"Get a frame of OS eastings and northings from a collection\n",
    "        of input postcodes.\n",
    "\n",
    "        Parameters\n",
    "        ----------\n",
    "\n",
    "        postcodes: sequence of strs\n",
    "            Sequence of postcodes.\n",
    "\n",
    "        Returns\n",
    "        -------\n",
    "\n",
    "        pandas.DataFrame\n",
    "            DataFrame containing only OSGB36 easthing and northing indexed\n",
    "            by the input postcodes. Invalid postcodes (i.e. not in the\n",
    "            input unlabelled postcodes file) return as NaN.\n",
    "         \"\"\"\n",
    "        postcode_df = self.postcodes\n",
    "        postcode_df = postcode_df.fillna('np.nan')\n",
    "        postcode_df = postcode_df.set_index('postcode')\n",
    "        index_data = postcode_df.loc[postcodes]\n",
    "        east = np.array(index_data['easting']).T\n",
    "        north = np.array(index_data['northing']).T\n",
    "        df = pd.DataFrame(np.vstack((east, north)).transpose(),columns=('east','north'))\n",
    "        \n",
    "        return df\n",
    "\n",
    "\n",
    "    def get_lat_long(self, postcodes):\n",
    "        \"\"\"Get a frame containing GPS latitude and longitude information for a\n",
    "        collection of of postcodes.\n",
    "\n",
    "        Parameters\n",
    "        ----------\n",
    "\n",
    "        postcodes: sequence of strs\n",
    "            Sequence of postcodes.\n",
    "\n",
    "        Returns\n",
    "        -------\n",
    "\n",
    "        pandas.DataFrame\n",
    "            DataFrame containing only WGS84 latitude and longitude pairs for\n",
    "            the input postcodes. Invalid postcodes (i.e. not in the\n",
    "            input unlabelled postcodes file) return as NAN.\n",
    "        \"\"\"\n",
    "        NE = self.get_easting_northing(postcodes)\n",
    "        east = NE['east']\n",
    "        north = NE['north']\n",
    "        lat_long = []\n",
    "        for i in range(len(NE)):\n",
    "            a = get_gps_lat_long_from_easting_northing([east[i]],[north[i]],rads=False)\n",
    "            lat_long.append(a)\n",
    "        return pd.DataFrame(lat_long, columns=('lat','lon'))"
   ]
  },
  {
   "cell_type": "code",
   "execution_count": 22,
   "metadata": {},
   "outputs": [],
   "source": [
    "t=Tool()"
   ]
  },
  {
   "cell_type": "code",
   "execution_count": 23,
   "metadata": {},
   "outputs": [],
   "source": [
    "east = t.get_easting_northing('YO62 4LS')['east']\n",
    "north = t.get_easting_northing('YO62 4LS')['north']"
   ]
  },
  {
   "cell_type": "code",
   "execution_count": 24,
   "metadata": {},
   "outputs": [
    {
     "data": {
      "text/plain": [
       "(array([54.1466214]), array([-0.96448663]))"
      ]
     },
     "execution_count": 24,
     "metadata": {},
     "output_type": "execute_result"
    }
   ],
   "source": [
    "get_gps_lat_long_from_easting_northing([east[0]],[north[0]],rads=False)"
   ]
  },
  {
   "cell_type": "code",
   "execution_count": 27,
   "metadata": {},
   "outputs": [
    {
     "data": {
      "text/html": [
       "<div>\n",
       "<style scoped>\n",
       "    .dataframe tbody tr th:only-of-type {\n",
       "        vertical-align: middle;\n",
       "    }\n",
       "\n",
       "    .dataframe tbody tr th {\n",
       "        vertical-align: top;\n",
       "    }\n",
       "\n",
       "    .dataframe thead th {\n",
       "        text-align: right;\n",
       "    }\n",
       "</style>\n",
       "<table border=\"1\" class=\"dataframe\">\n",
       "  <thead>\n",
       "    <tr style=\"text-align: right;\">\n",
       "      <th></th>\n",
       "      <th>lat</th>\n",
       "      <th>lon</th>\n",
       "    </tr>\n",
       "  </thead>\n",
       "  <tbody>\n",
       "    <tr>\n",
       "      <td>0</td>\n",
       "      <td>[54.14662140154492]</td>\n",
       "      <td>[-0.964486631996326]</td>\n",
       "    </tr>\n",
       "  </tbody>\n",
       "</table>\n",
       "</div>"
      ],
      "text/plain": [
       "                   lat                   lon\n",
       "0  [54.14662140154492]  [-0.964486631996326]"
      ]
     },
     "execution_count": 27,
     "metadata": {},
     "output_type": "execute_result"
    }
   ],
   "source": [
    "t.get_lat_long('YO62 4LS')"
   ]
  },
  {
   "cell_type": "code",
   "execution_count": 60,
   "metadata": {},
   "outputs": [],
   "source": [
    "def test_get_easting_northing():\n",
    "    \"\"\"Test get_easting_northing function\"\"\"\n",
    "    assert t.get_easting_northing('GU1 4XF') == pd.DataFrame(499691.0,149942.0)\n",
    "    \n",
    "if __name__ == \"main\":\n",
    "    test_get_easting_northing()"
   ]
  },
  {
   "cell_type": "code",
   "execution_count": null,
   "metadata": {},
   "outputs": [],
   "source": [
    "t.get_easting_northing('GU1 4XF')"
   ]
  },
  {
   "cell_type": "code",
   "execution_count": 1,
   "metadata": {},
   "outputs": [],
   "source": [
    "import ipywidgets as widgets\n",
    "from IPython.display import display"
   ]
  },
  {
   "cell_type": "code",
   "execution_count": 17,
   "metadata": {},
   "outputs": [
    {
     "data": {
      "application/vnd.jupyter.widget-view+json": {
       "model_id": "67ac339ee671471e9b7dd29525520b89",
       "version_major": 2,
       "version_minor": 0
      },
      "text/plain": [
       "IntSlider(value=0)"
      ]
     },
     "metadata": {},
     "output_type": "display_data"
    },
    {
     "data": {
      "text/plain": [
       "['_dom_classes',\n",
       " '_model_module',\n",
       " '_model_module_version',\n",
       " '_model_name',\n",
       " '_view_count',\n",
       " '_view_module',\n",
       " '_view_module_version',\n",
       " '_view_name',\n",
       " 'continuous_update',\n",
       " 'description',\n",
       " 'description_tooltip',\n",
       " 'disabled',\n",
       " 'layout',\n",
       " 'max',\n",
       " 'min',\n",
       " 'orientation',\n",
       " 'readout',\n",
       " 'readout_format',\n",
       " 'step',\n",
       " 'style',\n",
       " 'value']"
      ]
     },
     "execution_count": 17,
     "metadata": {},
     "output_type": "execute_result"
    }
   ],
   "source": [
    "w = widgets.IntSlider()\n",
    "display(w)\n",
    "w.keys"
   ]
  },
  {
   "cell_type": "code",
   "execution_count": 28,
   "metadata": {},
   "outputs": [],
   "source": [
    "import seaborn as sns\n",
    "import matplotlib.pyplot as plt"
   ]
  },
  {
   "cell_type": "code",
   "execution_count": 49,
   "metadata": {},
   "outputs": [
    {
     "data": {
      "application/vnd.jupyter.widget-view+json": {
       "model_id": "f0a7ddfdf91a4558a352dc87b5940b2c",
       "version_major": 2,
       "version_minor": 0
      },
      "text/plain": [
       "interactive(children=(Output(),), _dom_classes=('widget-interact',))"
      ]
     },
     "metadata": {},
     "output_type": "display_data"
    }
   ],
   "source": [
    "widgets.IntSlider(step=2, description='Number: ')\n",
    "cars = sns.load_dataset('mpg')\n",
    "\n",
    "def bandwidth_widget():\n",
    "    plt.plot(cars.horsepower)\n",
    "    \n",
    "widgets.interact(bandwidth_widget);"
   ]
  },
  {
   "cell_type": "code",
   "execution_count": 39,
   "metadata": {},
   "outputs": [],
   "source": [
    "def kde_widget(fill=True, color='blue'):\n",
    "    sns.kdeplot(cars.horsepower, color=color, lw=3, fill=fill)\n",
    "    plt.xlim(0, 300)\n",
    "    plt.ylim(0, 0.02)"
   ]
  },
  {
   "cell_type": "code",
   "execution_count": null,
   "metadata": {},
   "outputs": [],
   "source": [
    "widgets.interact(kde_widget, \n",
    "                 fill=True,\n",
    "                 color=['blue', 'red', 'green', 'orange']\n",
    "                 );"
   ]
  },
  {
   "cell_type": "code",
   "execution_count": 30,
   "metadata": {},
   "outputs": [],
   "source": [
    "def bandwidth_widgets(bw=1):\n",
    "    sns.kdeplot(cars.horsepower, lw=3, fill=True, bw_adjust=bw)\n",
    "    plt.xlim(-30,300)\n",
    "    plt.ylim(0,0.03);"
   ]
  },
  {
   "cell_type": "code",
   "execution_count": 32,
   "metadata": {},
   "outputs": [
    {
     "data": {
      "application/vnd.jupyter.widget-view+json": {
       "model_id": "7b5b50d1bcec461abc68b75b77c301f7",
       "version_major": 2,
       "version_minor": 0
      },
      "text/plain": [
       "interactive(children=(FloatSlider(value=1.0, description='bw', max=3.0, min=0.1), Output()), _dom_classes=('wi…"
      ]
     },
     "metadata": {},
     "output_type": "display_data"
    },
    {
     "data": {
      "image/png": "[encoded data removed]",
      "text/plain": [
       "<Figure size 432x288 with 1 Axes>"
      ]
     },
     "metadata": {
      "needs_background": "light"
     },
     "output_type": "display_data"
    }
   ],
   "source": [
    "widgets.interact(bandwidth_widgets,bw=(.1,3));"
   ]
  },
  {
   "cell_type": "code",
   "execution_count": 42,
   "metadata": {},
   "outputs": [],
   "source": [
    "def bandwidth_widget_scaled(bw=1):\n",
    "    sns.kdeplot(car.horsepower, bw_adjust=bw*.1, lw=3, fill=True)\n",
    "    plt.xlim(-30, 300)\n",
    "    plt.ylim(0, .03)"
   ]
  },
  {
   "cell_type": "code",
   "execution_count": 43,
   "metadata": {},
   "outputs": [
    {
     "data": {
      "application/vnd.jupyter.widget-view+json": {
       "model_id": "125c73f37f3746bb896530abcd1c8fea",
       "version_major": 2,
       "version_minor": 0
      },
      "text/plain": [
       "interactive(children=(Play(value=1, description='bw', max=20, min=1), Output()), _dom_classes=('widget-interac…"
      ]
     },
     "metadata": {},
     "output_type": "display_data"
    },
    {
     "data": {
      "image/png": "[encoded data removed]",
      "text/plain": [
       "<Figure size 432x288 with 1 Axes>"
      ]
     },
     "metadata": {
      "needs_background": "light"
     },
     "output_type": "display_data"
    }
   ],
   "source": [
    "widgets.interact(bandwidth_widget_scaled, bw=widgets.Play(min=1, max=20));"
   ]
  },
  {
   "cell_type": "code",
   "execution_count": 50,
   "metadata": {},
   "outputs": [],
   "source": [
    "data = pd.read_csv(\"resources/postcodes_sampled.csv\")"
   ]
  },
  {
   "cell_type": "code",
   "execution_count": 51,
   "metadata": {},
   "outputs": [
    {
     "data": {
      "text/html": [
       "<div>\n",
       "<style scoped>\n",
       "    .dataframe tbody tr th:only-of-type {\n",
       "        vertical-align: middle;\n",
       "    }\n",
       "\n",
       "    .dataframe tbody tr th {\n",
       "        vertical-align: top;\n",
       "    }\n",
       "\n",
       "    .dataframe thead th {\n",
       "        text-align: right;\n",
       "    }\n",
       "</style>\n",
       "<table border=\"1\" class=\"dataframe\">\n",
       "  <thead>\n",
       "    <tr style=\"text-align: right;\">\n",
       "      <th></th>\n",
       "      <th>postcode</th>\n",
       "      <th>sector</th>\n",
       "      <th>easting</th>\n",
       "      <th>northing</th>\n",
       "      <th>localAuthority</th>\n",
       "      <th>riskLabel</th>\n",
       "      <th>medianPrice</th>\n",
       "    </tr>\n",
       "  </thead>\n",
       "  <tbody>\n",
       "    <tr>\n",
       "      <td>0</td>\n",
       "      <td>GU1 4XF</td>\n",
       "      <td>GU1 4</td>\n",
       "      <td>499691.0</td>\n",
       "      <td>149942.0</td>\n",
       "      <td>Guildford</td>\n",
       "      <td>1</td>\n",
       "      <td>1253800.0</td>\n",
       "    </tr>\n",
       "    <tr>\n",
       "      <td>1</td>\n",
       "      <td>TN13 2JB</td>\n",
       "      <td>TN13 2</td>\n",
       "      <td>552025.0</td>\n",
       "      <td>155534.0</td>\n",
       "      <td>Sevenoaks</td>\n",
       "      <td>1</td>\n",
       "      <td>728200.0</td>\n",
       "    </tr>\n",
       "    <tr>\n",
       "      <td>2</td>\n",
       "      <td>S7 2BD</td>\n",
       "      <td>S7 2</td>\n",
       "      <td>434300.0</td>\n",
       "      <td>384300.0</td>\n",
       "      <td>Sheffield</td>\n",
       "      <td>1</td>\n",
       "      <td>327400.0</td>\n",
       "    </tr>\n",
       "    <tr>\n",
       "      <td>3</td>\n",
       "      <td>PR1 5LT</td>\n",
       "      <td>PR1 5</td>\n",
       "      <td>354912.0</td>\n",
       "      <td>429855.0</td>\n",
       "      <td>Preston</td>\n",
       "      <td>1</td>\n",
       "      <td>105600.0</td>\n",
       "    </tr>\n",
       "    <tr>\n",
       "      <td>4</td>\n",
       "      <td>WR4 9NJ</td>\n",
       "      <td>WR4 9</td>\n",
       "      <td>386834.0</td>\n",
       "      <td>256972.0</td>\n",
       "      <td>Worcester</td>\n",
       "      <td>1</td>\n",
       "      <td>262800.0</td>\n",
       "    </tr>\n",
       "    <tr>\n",
       "      <td>...</td>\n",
       "      <td>...</td>\n",
       "      <td>...</td>\n",
       "      <td>...</td>\n",
       "      <td>...</td>\n",
       "      <td>...</td>\n",
       "      <td>...</td>\n",
       "      <td>...</td>\n",
       "    </tr>\n",
       "    <tr>\n",
       "      <td>19995</td>\n",
       "      <td>CB1 3ZU</td>\n",
       "      <td>CB1 3</td>\n",
       "      <td>546881.0</td>\n",
       "      <td>258966.0</td>\n",
       "      <td>Cambridge</td>\n",
       "      <td>1</td>\n",
       "      <td>469800.0</td>\n",
       "    </tr>\n",
       "    <tr>\n",
       "      <td>19996</td>\n",
       "      <td>BR2 7ZT</td>\n",
       "      <td>BR2 7</td>\n",
       "      <td>540300.0</td>\n",
       "      <td>166100.0</td>\n",
       "      <td>Bromley</td>\n",
       "      <td>1</td>\n",
       "      <td>647700.0</td>\n",
       "    </tr>\n",
       "    <tr>\n",
       "      <td>19997</td>\n",
       "      <td>B66 4JU</td>\n",
       "      <td>B66 4</td>\n",
       "      <td>402702.0</td>\n",
       "      <td>287583.0</td>\n",
       "      <td>Sandwell</td>\n",
       "      <td>1</td>\n",
       "      <td>178000.0</td>\n",
       "    </tr>\n",
       "    <tr>\n",
       "      <td>19998</td>\n",
       "      <td>WA7 2SR</td>\n",
       "      <td>WA7 2</td>\n",
       "      <td>353481.0</td>\n",
       "      <td>382477.0</td>\n",
       "      <td>Halton</td>\n",
       "      <td>1</td>\n",
       "      <td>155000.0</td>\n",
       "    </tr>\n",
       "    <tr>\n",
       "      <td>19999</td>\n",
       "      <td>BA1 4BY</td>\n",
       "      <td>BA1 4</td>\n",
       "      <td>372787.0</td>\n",
       "      <td>166458.0</td>\n",
       "      <td>Bath and North East Somerset</td>\n",
       "      <td>8</td>\n",
       "      <td>401300.0</td>\n",
       "    </tr>\n",
       "  </tbody>\n",
       "</table>\n",
       "<p>20000 rows × 7 columns</p>\n",
       "</div>"
      ],
      "text/plain": [
       "       postcode  sector   easting  northing                localAuthority  \\\n",
       "0       GU1 4XF   GU1 4  499691.0  149942.0                     Guildford   \n",
       "1      TN13 2JB  TN13 2  552025.0  155534.0                     Sevenoaks   \n",
       "2        S7 2BD    S7 2  434300.0  384300.0                     Sheffield   \n",
       "3       PR1 5LT   PR1 5  354912.0  429855.0                       Preston   \n",
       "4       WR4 9NJ   WR4 9  386834.0  256972.0                     Worcester   \n",
       "...         ...     ...       ...       ...                           ...   \n",
       "19995   CB1 3ZU   CB1 3  546881.0  258966.0                     Cambridge   \n",
       "19996   BR2 7ZT   BR2 7  540300.0  166100.0                       Bromley   \n",
       "19997   B66 4JU   B66 4  402702.0  287583.0                      Sandwell   \n",
       "19998   WA7 2SR   WA7 2  353481.0  382477.0                        Halton   \n",
       "19999   BA1 4BY   BA1 4  372787.0  166458.0  Bath and North East Somerset   \n",
       "\n",
       "       riskLabel  medianPrice  \n",
       "0              1    1253800.0  \n",
       "1              1     728200.0  \n",
       "2              1     327400.0  \n",
       "3              1     105600.0  \n",
       "4              1     262800.0  \n",
       "...          ...          ...  \n",
       "19995          1     469800.0  \n",
       "19996          1     647700.0  \n",
       "19997          1     178000.0  \n",
       "19998          1     155000.0  \n",
       "19999          8     401300.0  \n",
       "\n",
       "[20000 rows x 7 columns]"
      ]
     },
     "execution_count": 51,
     "metadata": {},
     "output_type": "execute_result"
    }
   ],
   "source": [
    "def "
   ]
  },
  {
   "cell_type": "code",
   "execution_count": 61,
   "metadata": {},
   "outputs": [
    {
     "ename": "ModuleNotFoundError",
     "evalue": "No module named 'holoviews'",
     "output_type": "error",
     "traceback": [
      "\u001b[0;31m---------------------------------------------------------------------------\u001b[0m",
      "\u001b[0;31mModuleNotFoundError\u001b[0m                       Traceback (most recent call last)",
      "\u001b[0;32m./\u001b[0m in \u001b[0;36m<module>\u001b[0;34m\u001b[0m\n\u001b[0;32m----> 1\u001b[0;31m \u001b[0;32mimport\u001b[0m \u001b[0mholoviews\u001b[0m \u001b[0;32mas\u001b[0m \u001b[0mhv\u001b[0m\u001b[0;34m\u001b[0m\u001b[0;34m\u001b[0m\u001b[0m\n\u001b[0m",
      "\u001b[0;31mModuleNotFoundError\u001b[0m: No module named 'holoviews'"
     ]
    }
   ],
   "source": [
    "import holoviews as hv"
   ]
  },
  {
   "cell_type": "code",
   "execution_count": null,
   "metadata": {},
   "outputs": [],
   "source": []
  }
 ],
 "metadata": {
  "kernelspec": {
   "display_name": "Python 3",
   "language": "python",
   "name": "python3"
  },
  "language_info": {
   "codemirror_mode": {
    "name": "ipython",
    "version": 3
   },
   "file_extension": ".py",
   "mimetype": "text/x-python",
   "name": "python",
   "nbconvert_exporter": "python",
   "pygments_lexer": "ipython3",
   "version": "3.7.4"
  }
 },
 "nbformat": 4,
 "nbformat_minor": 5
}
